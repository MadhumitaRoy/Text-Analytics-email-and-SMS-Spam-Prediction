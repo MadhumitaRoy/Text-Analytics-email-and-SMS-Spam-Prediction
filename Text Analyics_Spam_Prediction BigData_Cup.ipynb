{
 "cells": [
  {
   "cell_type": "code",
   "execution_count": 1,
   "metadata": {},
   "outputs": [
    {
     "name": "stdout",
     "output_type": "stream",
     "text": [
      "2020-10-26 13:32:53.044118\n"
     ]
    }
   ],
   "source": [
    "import datetime\n",
    "print(datetime.datetime.now())"
   ]
  },
  {
   "cell_type": "code",
   "execution_count": 2,
   "metadata": {},
   "outputs": [
    {
     "data": {
      "text/plain": [
       "'C:\\\\Users\\\\ari62\\\\Documents\\\\Python Scripts\\\\Text_Analytics\\\\Big_Data_Cup'"
      ]
     },
     "execution_count": 2,
     "metadata": {},
     "output_type": "execute_result"
    }
   ],
   "source": [
    "import os\n",
    "os.getcwd()"
   ]
  },
  {
   "cell_type": "code",
   "execution_count": 3,
   "metadata": {},
   "outputs": [
    {
     "name": "stdout",
     "output_type": "stream",
     "text": [
      "The scikit-learn version is 0.23.2.\n"
     ]
    }
   ],
   "source": [
    "import sklearn\n",
    "print('The scikit-learn version is {}.'.format(sklearn.__version__))"
   ]
  },
  {
   "cell_type": "code",
   "execution_count": 4,
   "metadata": {},
   "outputs": [],
   "source": [
    "# Loading packages\n",
    "\n",
    "import numpy as np\n",
    "import pandas as pd\n",
    "\n",
    "# For Visualization\n",
    "import matplotlib.pyplot as plt\n",
    "import seaborn as sns\n",
    "\n",
    "import scipy\n",
    "from IPython.core.interactiveshell import InteractiveShell\n",
    "InteractiveShell.ast_node_interactivity = \"all\"\n",
    "\n",
    "from collections import Counter \n",
    "# For performing mathematical operations\n",
    "import math\n",
    "# For replacing\n",
    "import re\n",
    "# For handling strings\n",
    "import string"
   ]
  },
  {
   "cell_type": "code",
   "execution_count": 5,
   "metadata": {},
   "outputs": [
    {
     "name": "stdout",
     "output_type": "stream",
     "text": [
      "<class 'pandas.core.frame.DataFrame'>\n",
      "RangeIndex: 5000 entries, 0 to 4999\n",
      "Data columns (total 3 columns):\n",
      " #   Column    Non-Null Count  Dtype \n",
      "---  ------    --------------  ----- \n",
      " 0   id        5000 non-null   int64 \n",
      " 1   sms_text  5000 non-null   object\n",
      " 2   spam      5000 non-null   int64 \n",
      "dtypes: int64(2), object(1)\n",
      "memory usage: 117.3+ KB\n"
     ]
    },
    {
     "data": {
      "text/plain": [
       "(5000, 3)"
      ]
     },
     "execution_count": 5,
     "metadata": {},
     "output_type": "execute_result"
    },
    {
     "data": {
      "text/html": [
       "<div>\n",
       "<style scoped>\n",
       "    .dataframe tbody tr th:only-of-type {\n",
       "        vertical-align: middle;\n",
       "    }\n",
       "\n",
       "    .dataframe tbody tr th {\n",
       "        vertical-align: top;\n",
       "    }\n",
       "\n",
       "    .dataframe thead th {\n",
       "        text-align: right;\n",
       "    }\n",
       "</style>\n",
       "<table border=\"1\" class=\"dataframe\">\n",
       "  <thead>\n",
       "    <tr style=\"text-align: right;\">\n",
       "      <th></th>\n",
       "      <th>id</th>\n",
       "      <th>sms_text</th>\n",
       "      <th>spam</th>\n",
       "    </tr>\n",
       "  </thead>\n",
       "  <tbody>\n",
       "    <tr>\n",
       "      <th>0</th>\n",
       "      <td>1</td>\n",
       "      <td>Hope you are having a good week. Just checking in</td>\n",
       "      <td>0</td>\n",
       "    </tr>\n",
       "    <tr>\n",
       "      <th>1</th>\n",
       "      <td>2</td>\n",
       "      <td>K..give back my thanks.</td>\n",
       "      <td>0</td>\n",
       "    </tr>\n",
       "    <tr>\n",
       "      <th>2</th>\n",
       "      <td>3</td>\n",
       "      <td>Am also doing in cbe only. But have to pay.</td>\n",
       "      <td>0</td>\n",
       "    </tr>\n",
       "    <tr>\n",
       "      <th>3</th>\n",
       "      <td>4</td>\n",
       "      <td>complimentary 4 STAR Ibiza Holiday or £10,000 ...</td>\n",
       "      <td>1</td>\n",
       "    </tr>\n",
       "    <tr>\n",
       "      <th>4</th>\n",
       "      <td>5</td>\n",
       "      <td>okmail: Dear Dave this is your final notice to...</td>\n",
       "      <td>1</td>\n",
       "    </tr>\n",
       "  </tbody>\n",
       "</table>\n",
       "</div>"
      ],
      "text/plain": [
       "   id                                           sms_text  spam\n",
       "0   1  Hope you are having a good week. Just checking in     0\n",
       "1   2                            K..give back my thanks.     0\n",
       "2   3        Am also doing in cbe only. But have to pay.     0\n",
       "3   4  complimentary 4 STAR Ibiza Holiday or £10,000 ...     1\n",
       "4   5  okmail: Dear Dave this is your final notice to...     1"
      ]
     },
     "execution_count": 5,
     "metadata": {},
     "output_type": "execute_result"
    }
   ],
   "source": [
    "# Loading the training data\n",
    "train_df = pd.read_csv(\"spamraw_train.csv\")\n",
    "train_df.info()\n",
    "train_df.shape\n",
    "train_df.head()"
   ]
  },
  {
   "cell_type": "code",
   "execution_count": 6,
   "metadata": {},
   "outputs": [
    {
     "data": {
      "text/plain": [
       "id          0\n",
       "sms_text    0\n",
       "spam        0\n",
       "dtype: int64"
      ]
     },
     "execution_count": 6,
     "metadata": {},
     "output_type": "execute_result"
    }
   ],
   "source": [
    "# Checking for missing data\n",
    "train_df.isna().sum()"
   ]
  },
  {
   "cell_type": "markdown",
   "metadata": {},
   "source": [
    "No missing data"
   ]
  },
  {
   "cell_type": "code",
   "execution_count": 7,
   "metadata": {},
   "outputs": [
    {
     "data": {
      "text/plain": [
       "0    4327\n",
       "1     673\n",
       "Name: spam, dtype: int64"
      ]
     },
     "execution_count": 7,
     "metadata": {},
     "output_type": "execute_result"
    }
   ],
   "source": [
    "# Checking for data imbalance\n",
    "train_df[\"spam\"].value_counts()"
   ]
  },
  {
   "cell_type": "markdown",
   "metadata": {},
   "source": [
    "Data is imbalanced"
   ]
  },
  {
   "cell_type": "code",
   "execution_count": 8,
   "metadata": {},
   "outputs": [],
   "source": [
    "# Text data Feature Engineering\n",
    "\n",
    "#Word Count of each review\n",
    "train_df['word_count'] = train_df['sms_text'].apply(lambda x: len(str(x).split(\" \")))\n",
    "\n",
    "#Character Count of each review\n",
    "train_df['char_count'] = train_df['sms_text'].str.len() ## this also includes spaces"
   ]
  },
  {
   "cell_type": "code",
   "execution_count": 9,
   "metadata": {},
   "outputs": [],
   "source": [
    "#Character count without punctuations\n",
    "punctuation = ['!','\"','#','$','%','&',\"'\",'(',')','*','+',',','-','.','/',':',';','<','=','>','?','@','[','\\\\',']','^','_','`','{','|','}','~','``',\"''\",'--']\n",
    "def count_characters(data_df):\n",
    "    reviewcharacters = []\n",
    "    text_col = data_df['sms_text']\n",
    "    for i in text_col:\n",
    "        a = dict(Counter(i))\n",
    "        b = {k:v for k, v in a.items() if k not in punctuation}\n",
    "        c = sum(list(b.values()))\n",
    "        reviewcharacters.append(c)\n",
    "    data_df['reviewChars'] = reviewcharacters\n",
    "    return data_df['reviewChars']\n",
    "train_df['reviewChars'] = count_characters(train_df)"
   ]
  },
  {
   "cell_type": "code",
   "execution_count": 10,
   "metadata": {},
   "outputs": [],
   "source": [
    "#Number of Punctuations\n",
    "\n",
    "def numpunct(data_df):\n",
    "    reviewPuncts = []\n",
    "    for i in data_df['sms_text']:\n",
    "        a = dict(Counter(i))\n",
    "        b = {k:v for k,v in a.items() if k in punctuation}\n",
    "        c = sum(list(b.values()))\n",
    "        reviewPuncts.append(c)\n",
    "    data_df['reviewPuncts'] = reviewPuncts\n",
    "    return data_df['reviewPuncts']\n",
    "train_df['reviewPuncts'] = numpunct(train_df)"
   ]
  },
  {
   "cell_type": "code",
   "execution_count": 11,
   "metadata": {},
   "outputs": [],
   "source": [
    "# Ratio of Punctuations to reviewc characters\n",
    "def ratio_puncts_chars(data_df):\n",
    "    return data_df['reviewPuncts'] / data_df['reviewChars']\n",
    "train_df['ratiopunChar'] = ratio_puncts_chars(train_df)"
   ]
  },
  {
   "cell_type": "code",
   "execution_count": 12,
   "metadata": {},
   "outputs": [],
   "source": [
    "#Number of Capital Words\n",
    "def numcapwords(data_df):\n",
    "    reviewCwords = []\n",
    "    for i in data_df['sms_text']:\n",
    "        a = i.split()\n",
    "        b = [word for word in a if word.isupper()]\n",
    "        c = len(b)\n",
    "        reviewCwords.append(c)\n",
    "    data_df['reviewCwords'] = reviewCwords\n",
    "    return data_df['reviewCwords']\n",
    "train_df['reviewCwords'] = numcapwords(train_df)"
   ]
  },
  {
   "cell_type": "code",
   "execution_count": 13,
   "metadata": {},
   "outputs": [],
   "source": [
    "#Sentiment Analysis \n",
    "from textblob import TextBlob\n",
    "train_df['polarity_score']=train_df['sms_text'].apply(lambda x:TextBlob(x).sentiment.polarity)"
   ]
  },
  {
   "cell_type": "code",
   "execution_count": 14,
   "metadata": {},
   "outputs": [],
   "source": [
    "#Frequency distribution of Part of Speech Tags\n",
    "import textblob\n",
    "pos_family = {\n",
    "    'noun' : ['NN','NNS','NNP','NNPS'],\n",
    "    'pron' : ['PRP','PRP$','WP','WP$'],\n",
    "    'verb' : ['VB','VBD','VBG','VBN','VBP','VBZ'],\n",
    "    'adj' :  ['JJ','JJR','JJS'],\n",
    "    'adv' : ['RB','RBR','RBS','WRB']\n",
    "}\n",
    "\n",
    "# function to check and get the part of speech tag count of a words in a given sentence\n",
    "def check_pos_tag(x, flag):\n",
    "    cnt = 0\n",
    "    try:\n",
    "        wiki = textblob.TextBlob(x)\n",
    "        for tup in wiki.tags:\n",
    "            ppo = list(tup)[1]\n",
    "            if ppo in pos_family[flag]:\n",
    "                cnt += 1\n",
    "    except:\n",
    "        pass\n",
    "    return cnt\n",
    "train_df['noun_count'] = train_df['sms_text'].apply(lambda x: check_pos_tag(x, 'noun'))\n",
    "train_df['verb_count'] = train_df['sms_text'].apply(lambda x: check_pos_tag(x, 'verb'))\n",
    "train_df['adj_count'] = train_df['sms_text'].apply(lambda x: check_pos_tag(x, 'adj'))\n",
    "train_df['adv_count'] = train_df['sms_text'].apply(lambda x: check_pos_tag(x, 'adv'))\n",
    "train_df['pron_count'] = train_df['sms_text'].apply(lambda x: check_pos_tag(x, 'pron'))"
   ]
  },
  {
   "cell_type": "code",
   "execution_count": 15,
   "metadata": {},
   "outputs": [
    {
     "data": {
      "text/html": [
       "<div>\n",
       "<style scoped>\n",
       "    .dataframe tbody tr th:only-of-type {\n",
       "        vertical-align: middle;\n",
       "    }\n",
       "\n",
       "    .dataframe tbody tr th {\n",
       "        vertical-align: top;\n",
       "    }\n",
       "\n",
       "    .dataframe thead th {\n",
       "        text-align: right;\n",
       "    }\n",
       "</style>\n",
       "<table border=\"1\" class=\"dataframe\">\n",
       "  <thead>\n",
       "    <tr style=\"text-align: right;\">\n",
       "      <th></th>\n",
       "      <th>id</th>\n",
       "      <th>sms_text</th>\n",
       "      <th>spam</th>\n",
       "      <th>word_count</th>\n",
       "      <th>char_count</th>\n",
       "      <th>reviewChars</th>\n",
       "      <th>reviewPuncts</th>\n",
       "      <th>ratiopunChar</th>\n",
       "      <th>reviewCwords</th>\n",
       "      <th>polarity_score</th>\n",
       "      <th>noun_count</th>\n",
       "      <th>verb_count</th>\n",
       "      <th>adj_count</th>\n",
       "      <th>adv_count</th>\n",
       "      <th>pron_count</th>\n",
       "    </tr>\n",
       "  </thead>\n",
       "  <tbody>\n",
       "    <tr>\n",
       "      <th>0</th>\n",
       "      <td>1</td>\n",
       "      <td>Hope you are having a good week. Just checking in</td>\n",
       "      <td>0</td>\n",
       "      <td>10</td>\n",
       "      <td>49</td>\n",
       "      <td>48</td>\n",
       "      <td>1</td>\n",
       "      <td>0.020833</td>\n",
       "      <td>0</td>\n",
       "      <td>0.700</td>\n",
       "      <td>3</td>\n",
       "      <td>2</td>\n",
       "      <td>1</td>\n",
       "      <td>1</td>\n",
       "      <td>1</td>\n",
       "    </tr>\n",
       "    <tr>\n",
       "      <th>1</th>\n",
       "      <td>2</td>\n",
       "      <td>K..give back my thanks.</td>\n",
       "      <td>0</td>\n",
       "      <td>4</td>\n",
       "      <td>23</td>\n",
       "      <td>20</td>\n",
       "      <td>3</td>\n",
       "      <td>0.150000</td>\n",
       "      <td>0</td>\n",
       "      <td>0.100</td>\n",
       "      <td>2</td>\n",
       "      <td>0</td>\n",
       "      <td>0</td>\n",
       "      <td>0</td>\n",
       "      <td>1</td>\n",
       "    </tr>\n",
       "    <tr>\n",
       "      <th>2</th>\n",
       "      <td>3</td>\n",
       "      <td>Am also doing in cbe only. But have to pay.</td>\n",
       "      <td>0</td>\n",
       "      <td>10</td>\n",
       "      <td>43</td>\n",
       "      <td>41</td>\n",
       "      <td>2</td>\n",
       "      <td>0.048780</td>\n",
       "      <td>0</td>\n",
       "      <td>0.000</td>\n",
       "      <td>2</td>\n",
       "      <td>3</td>\n",
       "      <td>0</td>\n",
       "      <td>2</td>\n",
       "      <td>0</td>\n",
       "    </tr>\n",
       "    <tr>\n",
       "      <th>3</th>\n",
       "      <td>4</td>\n",
       "      <td>complimentary 4 STAR Ibiza Holiday or £10,000 ...</td>\n",
       "      <td>1</td>\n",
       "      <td>21</td>\n",
       "      <td>149</td>\n",
       "      <td>145</td>\n",
       "      <td>4</td>\n",
       "      <td>0.027586</td>\n",
       "      <td>3</td>\n",
       "      <td>0.375</td>\n",
       "      <td>10</td>\n",
       "      <td>2</td>\n",
       "      <td>1</td>\n",
       "      <td>1</td>\n",
       "      <td>1</td>\n",
       "    </tr>\n",
       "    <tr>\n",
       "      <th>4</th>\n",
       "      <td>5</td>\n",
       "      <td>okmail: Dear Dave this is your final notice to...</td>\n",
       "      <td>1</td>\n",
       "      <td>27</td>\n",
       "      <td>161</td>\n",
       "      <td>156</td>\n",
       "      <td>5</td>\n",
       "      <td>0.032051</td>\n",
       "      <td>3</td>\n",
       "      <td>0.000</td>\n",
       "      <td>12</td>\n",
       "      <td>3</td>\n",
       "      <td>2</td>\n",
       "      <td>0</td>\n",
       "      <td>2</td>\n",
       "    </tr>\n",
       "  </tbody>\n",
       "</table>\n",
       "</div>"
      ],
      "text/plain": [
       "   id                                           sms_text  spam  word_count  \\\n",
       "0   1  Hope you are having a good week. Just checking in     0          10   \n",
       "1   2                            K..give back my thanks.     0           4   \n",
       "2   3        Am also doing in cbe only. But have to pay.     0          10   \n",
       "3   4  complimentary 4 STAR Ibiza Holiday or £10,000 ...     1          21   \n",
       "4   5  okmail: Dear Dave this is your final notice to...     1          27   \n",
       "\n",
       "   char_count  reviewChars  reviewPuncts  ratiopunChar  reviewCwords  \\\n",
       "0          49           48             1      0.020833             0   \n",
       "1          23           20             3      0.150000             0   \n",
       "2          43           41             2      0.048780             0   \n",
       "3         149          145             4      0.027586             3   \n",
       "4         161          156             5      0.032051             3   \n",
       "\n",
       "   polarity_score  noun_count  verb_count  adj_count  adv_count  pron_count  \n",
       "0           0.700           3           2          1          1           1  \n",
       "1           0.100           2           0          0          0           1  \n",
       "2           0.000           2           3          0          2           0  \n",
       "3           0.375          10           2          1          1           1  \n",
       "4           0.000          12           3          2          0           2  "
      ]
     },
     "execution_count": 15,
     "metadata": {},
     "output_type": "execute_result"
    }
   ],
   "source": [
    "train_df.head()"
   ]
  },
  {
   "cell_type": "code",
   "execution_count": 16,
   "metadata": {},
   "outputs": [
    {
     "name": "stdout",
     "output_type": "stream",
     "text": [
      "Most common words in the train dataset\n"
     ]
    },
    {
     "data": {
      "text/plain": [
       "i      2432\n",
       "to     2041\n",
       "you    1947\n",
       "a      1297\n",
       "is     1229\n",
       "u      1209\n",
       "the    1208\n",
       "and     875\n",
       "in      818\n",
       "me      727\n",
       "dtype: int64"
      ]
     },
     "execution_count": 16,
     "metadata": {},
     "output_type": "execute_result"
    },
    {
     "data": {
      "text/plain": [
       "0     hope you are having a good week just checking in\n",
       "1                                 kgive back my thanks\n",
       "2            am also doing in cbe only but have to pay\n",
       "3    complimentary star ibiza holiday or £ cash nee...\n",
       "4    okmail dear dave this is your final notice to ...\n",
       "Name: Sms_text_pre, dtype: object"
      ]
     },
     "execution_count": 16,
     "metadata": {},
     "output_type": "execute_result"
    },
    {
     "data": {
      "text/html": [
       "<div>\n",
       "<style scoped>\n",
       "    .dataframe tbody tr th:only-of-type {\n",
       "        vertical-align: middle;\n",
       "    }\n",
       "\n",
       "    .dataframe tbody tr th {\n",
       "        vertical-align: top;\n",
       "    }\n",
       "\n",
       "    .dataframe thead th {\n",
       "        text-align: right;\n",
       "    }\n",
       "</style>\n",
       "<table border=\"1\" class=\"dataframe\">\n",
       "  <thead>\n",
       "    <tr style=\"text-align: right;\">\n",
       "      <th></th>\n",
       "      <th>sms_text</th>\n",
       "      <th>Sms_text_pre_clean</th>\n",
       "    </tr>\n",
       "  </thead>\n",
       "  <tbody>\n",
       "    <tr>\n",
       "      <th>0</th>\n",
       "      <td>Hope you are having a good week. Just checking in</td>\n",
       "      <td>hope good week checking</td>\n",
       "    </tr>\n",
       "    <tr>\n",
       "      <th>1</th>\n",
       "      <td>K..give back my thanks.</td>\n",
       "      <td>kgive back thanks</td>\n",
       "    </tr>\n",
       "    <tr>\n",
       "      <th>2</th>\n",
       "      <td>Am also doing in cbe only. But have to pay.</td>\n",
       "      <td>also cbe pay</td>\n",
       "    </tr>\n",
       "    <tr>\n",
       "      <th>3</th>\n",
       "      <td>complimentary 4 STAR Ibiza Holiday or £10,000 ...</td>\n",
       "      <td>complimentary star ibiza holiday £ cash need u...</td>\n",
       "    </tr>\n",
       "    <tr>\n",
       "      <th>4</th>\n",
       "      <td>okmail: Dear Dave this is your final notice to...</td>\n",
       "      <td>okmail dear dave final notice collect tenerife...</td>\n",
       "    </tr>\n",
       "  </tbody>\n",
       "</table>\n",
       "</div>"
      ],
      "text/plain": [
       "                                            sms_text  \\\n",
       "0  Hope you are having a good week. Just checking in   \n",
       "1                            K..give back my thanks.   \n",
       "2        Am also doing in cbe only. But have to pay.   \n",
       "3  complimentary 4 STAR Ibiza Holiday or £10,000 ...   \n",
       "4  okmail: Dear Dave this is your final notice to...   \n",
       "\n",
       "                                  Sms_text_pre_clean  \n",
       "0                            hope good week checking  \n",
       "1                                  kgive back thanks  \n",
       "2                                       also cbe pay  \n",
       "3  complimentary star ibiza holiday £ cash need u...  \n",
       "4  okmail dear dave final notice collect tenerife...  "
      ]
     },
     "execution_count": 16,
     "metadata": {},
     "output_type": "execute_result"
    }
   ],
   "source": [
    "#Text Preprocessing\n",
    "\n",
    "# Remove ,,, from entries in name column\n",
    "train_df['Sms_text_pre'] = train_df['sms_text'].str.replace(r'\\,,,','')\n",
    "#train_df['Sms_text_pre'].unique()\n",
    "\n",
    "#Remove contractions from text reviews\n",
    "# Dictionary of English Contractions\n",
    "contractions_dict = { \"It's\":\"It is\",\"it's\":\"it is\", \"ain't\": \"are not\",\"'s\":\" is\",\"aren't\": \"are not\",\n",
    "                     \"can't\": \"cannot\",\"can't've\": \"cannot have\",\n",
    "                     \"'cause\": \"because\",\"could've\": \"could have\",\"couldn't\": \"could not\",\n",
    "                     \"couldn't've\": \"could not have\", \"didn't\": \"did not\",\"doesn't\": \"does not\",\n",
    "                     \"don't\": \"do not\",\"hadn't\": \"had not\",\"hadn't've\": \"had not have\",\n",
    "                     \"hasn't\": \"has not\",\"haven't\": \"have not\",\"he'd\": \"he would\",\n",
    "                     \"he'd've\": \"he would have\",\"he'll\": \"he will\", \"he'll've\": \"he will have\",\n",
    "                     \"how'd\": \"how did\",\"how'd'y\": \"how do you\",\"how'll\": \"how will\",\n",
    "                     \"I'd\": \"I would\", \"I'd've\": \"I would have\",\"I'll\": \"I will\",\n",
    "                     \"I'll've\": \"I will have\",\"I'm\": \"I am\",\"I've\": \"I have\", \"isn't\": \"is not\",\n",
    "                     \"it'd\": \"it would\",\"it'd've\": \"it would have\",\"it'll\": \"it will\",\n",
    "                     \"it'll've\": \"it will have\", \"let's\": \"let us\",\"ma'am\": \"madam\",\n",
    "                     \"mayn't\": \"may not\",\"might've\": \"might have\",\"mightn't\": \"might not\", \n",
    "                     \"mightn't've\": \"might not have\",\"must've\": \"must have\",\"mustn't\": \"must not\",\n",
    "                     \"mustn't've\": \"must not have\", \"needn't\": \"need not\",\n",
    "                     \"needn't've\": \"need not have\",\"o'clock\": \"of the clock\",\"oughtn't\": \"ought not\",\n",
    "                     \"oughtn't've\": \"ought not have\",\"shan't\": \"shall not\",\"sha'n't\": \"shall not\",\n",
    "                     \"shan't've\": \"shall not have\",\"she'd\": \"she would\",\"she'd've\": \"she would have\",\n",
    "                     \"she'll\": \"she will\", \"she'll've\": \"she will have\",\"should've\": \"should have\",\n",
    "                     \"shouldn't\": \"should not\", \"shouldn't've\": \"should not have\",\"so've\": \"so have\",\n",
    "                     \"that'd\": \"that would\",\"that'd've\": \"that would have\", \"there'd\": \"there would\",\n",
    "                     \"there'd've\": \"there would have\", \"they'd\": \"they would\",\n",
    "                     \"they'd've\": \"they would have\",\"they'll\": \"they will\",\n",
    "                     \"they'll've\": \"they will have\", \"they're\": \"they are\",\"they've\": \"they have\",\n",
    "                     \"to've\": \"to have\",\"wasn't\": \"was not\",\"we'd\": \"we would\",\n",
    "                     \"we'd've\": \"we would have\",\"we'll\": \"we will\",\"we'll've\": \"we will have\",\n",
    "                     \"we're\": \"we are\",\"we've\": \"we have\", \"weren't\": \"were not\",\"what'll\": \"what will\",\n",
    "                     \"what'll've\": \"what will have\",\"what're\": \"what are\", \"what've\": \"what have\",\n",
    "                     \"when've\": \"when have\",\"where'd\": \"where did\", \"where've\": \"where have\",\n",
    "                     \"who'll\": \"who will\",\"who'll've\": \"who will have\",\"who've\": \"who have\",\n",
    "                     \"why've\": \"why have\",\"will've\": \"will have\",\"won't\": \"will not\",\n",
    "                     \"won't've\": \"will not have\", \"would've\": \"would have\",\"wouldn't\": \"would not\",\n",
    "                     \"wouldn't've\": \"would not have\",\"y'all\": \"you all\", \"y'all'd\": \"you all would\",\n",
    "                     \"y'all'd've\": \"you all would have\",\"y'all're\": \"you all are\",\n",
    "                     \"y'all've\": \"you all have\", \"you'd\": \"you would\",\"you'd've\": \"you would have\",\n",
    "                     \"you'll\": \"you will\",\"you'll've\": \"you will have\", \"you're\": \"you are\",\n",
    "                     \"you've\": \"you have\"}\n",
    "\n",
    "# Regular expression for finding contractions\n",
    "contractions_re=re.compile('(%s)' % '|'.join(contractions_dict.keys()))\n",
    "\n",
    "# Function for expanding contractions\n",
    "def expand_contractions(text,contractions_dict=contractions_dict):\n",
    "  def replace(match):\n",
    "    return contractions_dict[match.group(0)]\n",
    "  return contractions_re.sub(replace, text)\n",
    "\n",
    "# Expanding Contractions in the reviews\n",
    "train_df['Sms_text_pre']=train_df['Sms_text_pre'].apply(lambda x:expand_contractions(x))\n",
    "\n",
    "#Lowercase letters\n",
    "train_df['Sms_text_pre']=train_df['Sms_text_pre'].str.lower()\n",
    "\n",
    "#Remove digits and words containing digits \n",
    "train_df['Sms_text_pre']=train_df['Sms_text_pre'].apply(lambda x: re.sub('\\w*\\d\\w*','', x))\n",
    "\n",
    "#Remove Punctuations\n",
    "train_df['Sms_text_pre']=train_df['Sms_text_pre'].apply(lambda x: re.sub('[%s]' % re.escape(string.punctuation), '', x))\n",
    "\n",
    "#Commonly occuring words\n",
    "freq = pd.Series(' '.join(train_df['Sms_text_pre']).split()).value_counts()[:10]\n",
    "print(\"Most common words in the train dataset\")\n",
    "freq\n",
    "\n",
    "#removal of commonly occuring irrelevant words\n",
    "freq = list(freq)\n",
    "train_df['Sms_text_pre'] = train_df['Sms_text_pre'].apply(lambda x: \" \".join(x for x in x.split() if x not in freq))\n",
    "#train_df['Sms_text_pre'].head()\n",
    "\n",
    "#Count of rare words\n",
    "\n",
    "freq_rare = pd.Series(' '.join(train_df['Sms_text_pre']).split()).value_counts()[-100:]\n",
    "#freq_rare\n",
    "\n",
    "#removal of rarely occuring irrelevant words\n",
    "freq_rare = list(freq_rare)\n",
    "train_df['Sms_text_pre'] = train_df['Sms_text_pre'].apply(lambda x: \" \".join(x for x in x.split() if x not in freq))\n",
    "train_df['Sms_text_pre'].head()\n",
    "\n",
    "# Exclude stopwords with Python's list comprehension and pandas.DataFrame.apply.\n",
    "from nltk.corpus import stopwords\n",
    "stop = stopwords.words('english')\n",
    "train_df['Sms_text_pre_stop'] = train_df['Sms_text_pre'].apply(lambda x: ' '.join([word for word in x.split() if word not in (stop)]))\n",
    "\n",
    "#Lemmatization\n",
    "\n",
    "from textblob import Word\n",
    "train_df['Sms_text_pre_clean'] = train_df['Sms_text_pre_stop'].apply(lambda x: \" \".join([Word(word).lemmatize() for word in x.split()]))\n",
    "train_df[[\"sms_text\",\"Sms_text_pre_clean\"]].head()\n"
   ]
  },
  {
   "cell_type": "code",
   "execution_count": 17,
   "metadata": {},
   "outputs": [
    {
     "data": {
      "text/plain": [
       "<wordcloud.wordcloud.WordCloud at 0x266e2c44048>"
      ]
     },
     "execution_count": 17,
     "metadata": {},
     "output_type": "execute_result"
    },
    {
     "data": {
      "image/png": "[encoded data removed]",
      "text/plain": [
       "<PIL.Image.Image image mode=RGB size=400x200 at 0x266E57A38C8>"
      ]
     },
     "execution_count": 17,
     "metadata": {},
     "output_type": "execute_result"
    }
   ],
   "source": [
    "#Generate Word Cloud for train data\n",
    "from wordcloud import WordCloud\n",
    "# Join the different processed titles together.\n",
    "long_string = ','.join(list(train_df['Sms_text_pre_clean'].values))\n",
    "# Create a WordCloud object\n",
    "wordcloud = WordCloud(background_color=\"white\", max_words=5000, contour_width=3, contour_color='steelblue')\n",
    "# Generate a word cloud\n",
    "wordcloud.generate(long_string)\n",
    "# Visualize the word cloud\n",
    "wordcloud.to_image()"
   ]
  },
  {
   "cell_type": "code",
   "execution_count": 18,
   "metadata": {},
   "outputs": [],
   "source": [
    "#Text to Vector. Creating bag of words.\n",
    "from sklearn.feature_extraction.text import TfidfVectorizer\n",
    "vectorizer = TfidfVectorizer(min_df = 0.01,max_df = 0.05,max_features=1000, lowercase=True, stop_words = 'english', ngram_range=(1, 2))\n",
    "#fit the vectorizers to the data.\n",
    "\n",
    "features = vectorizer.fit_transform(train_df['Sms_text_pre_clean'])\n",
    "pandaframe = pd.DataFrame(features.toarray(), columns=vectorizer.get_feature_names())"
   ]
  },
  {
   "cell_type": "code",
   "execution_count": 19,
   "metadata": {},
   "outputs": [
    {
     "data": {
      "text/plain": [
       "['ask',\n",
       " 'babe',\n",
       " 'buy',\n",
       " 'care',\n",
       " 'cash',\n",
       " 'claim',\n",
       " 'come',\n",
       " 'contact',\n",
       " 'customer',\n",
       " 'da',\n",
       " 'day',\n",
       " 'dear',\n",
       " 'dont',\n",
       " 'feel',\n",
       " 'free',\n",
       " 'friend',\n",
       " 'going',\n",
       " 'gonna',\n",
       " 'good',\n",
       " 'got',\n",
       " 'great',\n",
       " 'gud',\n",
       " 'guy',\n",
       " 'happy',\n",
       " 'help',\n",
       " 'hey',\n",
       " 'hi',\n",
       " 'home',\n",
       " 'hope',\n",
       " 'ill',\n",
       " 'im',\n",
       " 'know',\n",
       " 'later',\n",
       " 'let',\n",
       " 'life',\n",
       " 'like',\n",
       " 'lol',\n",
       " 'lor',\n",
       " 'love',\n",
       " 'make',\n",
       " 'meet',\n",
       " 'message',\n",
       " 'min',\n",
       " 'miss',\n",
       " 'mobile',\n",
       " 'morning',\n",
       " 'msg',\n",
       " 'need',\n",
       " 'new',\n",
       " 'night',\n",
       " 'number',\n",
       " 'oh',\n",
       " 'ok',\n",
       " 'phone',\n",
       " 'pick',\n",
       " 'place',\n",
       " 'pls',\n",
       " 'prize',\n",
       " 'really',\n",
       " 'reply',\n",
       " 'right',\n",
       " 'said',\n",
       " 'say',\n",
       " 'send',\n",
       " 'sent',\n",
       " 'service',\n",
       " 'soon',\n",
       " 'sorry',\n",
       " 'stop',\n",
       " 'sure',\n",
       " 'tc',\n",
       " 'tell',\n",
       " 'text',\n",
       " 'thanks',\n",
       " 'thing',\n",
       " 'think',\n",
       " 'time',\n",
       " 'today',\n",
       " 'tomorrow',\n",
       " 'tonight',\n",
       " 'txt',\n",
       " 'urgent',\n",
       " 'wait',\n",
       " 'wan',\n",
       " 'want',\n",
       " 'wat',\n",
       " 'way',\n",
       " 'week',\n",
       " 'win',\n",
       " 'word',\n",
       " 'work',\n",
       " 'yeah',\n",
       " 'year',\n",
       " 'yes']"
      ]
     },
     "execution_count": 19,
     "metadata": {},
     "output_type": "execute_result"
    }
   ],
   "source": [
    "vectorizer.get_feature_names()"
   ]
  },
  {
   "cell_type": "code",
   "execution_count": 20,
   "metadata": {},
   "outputs": [
    {
     "data": {
      "text/plain": [
       "Index(['id', 'sms_text', 'spam', 'word_count', 'char_count', 'reviewChars',\n",
       "       'reviewPuncts', 'ratiopunChar', 'reviewCwords', 'polarity_score',\n",
       "       'noun_count', 'verb_count', 'adj_count', 'adv_count', 'pron_count',\n",
       "       'Sms_text_pre', 'Sms_text_pre_stop', 'Sms_text_pre_clean'],\n",
       "      dtype='object')"
      ]
     },
     "execution_count": 20,
     "metadata": {},
     "output_type": "execute_result"
    }
   ],
   "source": [
    "train_df.columns"
   ]
  },
  {
   "cell_type": "code",
   "execution_count": 21,
   "metadata": {},
   "outputs": [],
   "source": [
    "#Select features to use in model\n",
    "train_df1=train_df[['word_count', 'char_count','polarity_score','spam','reviewChars','reviewPuncts','ratiopunChar','reviewCwords','noun_count','verb_count','adj_count','adv_count','pron_count']]\n",
    "train_df2= pd.concat([pandaframe.reset_index(drop=True), train_df1.reset_index(drop=True)], axis=1)"
   ]
  },
  {
   "cell_type": "code",
   "execution_count": 22,
   "metadata": {},
   "outputs": [
    {
     "name": "stdout",
     "output_type": "stream",
     "text": [
      "<class 'pandas.core.frame.DataFrame'>\n",
      "RangeIndex: 5000 entries, 0 to 4999\n",
      "Columns: 107 entries, ask to pron_count\n",
      "dtypes: float64(96), int64(11)\n",
      "memory usage: 4.1 MB\n"
     ]
    }
   ],
   "source": [
    "#Repace infiniti values with zero, if any to avoid errors when building the model\n",
    "train_df2.info()\n",
    "train_df2 = train_df2.replace([np.inf, -np.inf], np.nan)\n",
    "train_df2[\"ratiopunChar\"]=train_df2[\"ratiopunChar\"].fillna(0)"
   ]
  },
  {
   "cell_type": "code",
   "execution_count": 23,
   "metadata": {},
   "outputs": [
    {
     "data": {
      "text/plain": [
       "(5000, 107)"
      ]
     },
     "execution_count": 23,
     "metadata": {},
     "output_type": "execute_result"
    },
    {
     "data": {
      "text/html": [
       "<div>\n",
       "<style scoped>\n",
       "    .dataframe tbody tr th:only-of-type {\n",
       "        vertical-align: middle;\n",
       "    }\n",
       "\n",
       "    .dataframe tbody tr th {\n",
       "        vertical-align: top;\n",
       "    }\n",
       "\n",
       "    .dataframe thead th {\n",
       "        text-align: right;\n",
       "    }\n",
       "</style>\n",
       "<table border=\"1\" class=\"dataframe\">\n",
       "  <thead>\n",
       "    <tr style=\"text-align: right;\">\n",
       "      <th></th>\n",
       "      <th>ask</th>\n",
       "      <th>babe</th>\n",
       "      <th>buy</th>\n",
       "      <th>care</th>\n",
       "      <th>cash</th>\n",
       "      <th>claim</th>\n",
       "      <th>come</th>\n",
       "      <th>contact</th>\n",
       "      <th>customer</th>\n",
       "      <th>da</th>\n",
       "      <th>...</th>\n",
       "      <th>spam</th>\n",
       "      <th>reviewChars</th>\n",
       "      <th>reviewPuncts</th>\n",
       "      <th>ratiopunChar</th>\n",
       "      <th>reviewCwords</th>\n",
       "      <th>noun_count</th>\n",
       "      <th>verb_count</th>\n",
       "      <th>adj_count</th>\n",
       "      <th>adv_count</th>\n",
       "      <th>pron_count</th>\n",
       "    </tr>\n",
       "  </thead>\n",
       "  <tbody>\n",
       "    <tr>\n",
       "      <th>0</th>\n",
       "      <td>0.0</td>\n",
       "      <td>0.0</td>\n",
       "      <td>0.0</td>\n",
       "      <td>0.0</td>\n",
       "      <td>0.000000</td>\n",
       "      <td>0.0</td>\n",
       "      <td>0.0</td>\n",
       "      <td>0.0</td>\n",
       "      <td>0.0</td>\n",
       "      <td>0.0</td>\n",
       "      <td>...</td>\n",
       "      <td>0</td>\n",
       "      <td>48</td>\n",
       "      <td>1</td>\n",
       "      <td>0.020833</td>\n",
       "      <td>0</td>\n",
       "      <td>3</td>\n",
       "      <td>2</td>\n",
       "      <td>1</td>\n",
       "      <td>1</td>\n",
       "      <td>1</td>\n",
       "    </tr>\n",
       "    <tr>\n",
       "      <th>1</th>\n",
       "      <td>0.0</td>\n",
       "      <td>0.0</td>\n",
       "      <td>0.0</td>\n",
       "      <td>0.0</td>\n",
       "      <td>0.000000</td>\n",
       "      <td>0.0</td>\n",
       "      <td>0.0</td>\n",
       "      <td>0.0</td>\n",
       "      <td>0.0</td>\n",
       "      <td>0.0</td>\n",
       "      <td>...</td>\n",
       "      <td>0</td>\n",
       "      <td>20</td>\n",
       "      <td>3</td>\n",
       "      <td>0.150000</td>\n",
       "      <td>0</td>\n",
       "      <td>2</td>\n",
       "      <td>0</td>\n",
       "      <td>0</td>\n",
       "      <td>0</td>\n",
       "      <td>1</td>\n",
       "    </tr>\n",
       "    <tr>\n",
       "      <th>2</th>\n",
       "      <td>0.0</td>\n",
       "      <td>0.0</td>\n",
       "      <td>0.0</td>\n",
       "      <td>0.0</td>\n",
       "      <td>0.000000</td>\n",
       "      <td>0.0</td>\n",
       "      <td>0.0</td>\n",
       "      <td>0.0</td>\n",
       "      <td>0.0</td>\n",
       "      <td>0.0</td>\n",
       "      <td>...</td>\n",
       "      <td>0</td>\n",
       "      <td>41</td>\n",
       "      <td>2</td>\n",
       "      <td>0.048780</td>\n",
       "      <td>0</td>\n",
       "      <td>2</td>\n",
       "      <td>3</td>\n",
       "      <td>0</td>\n",
       "      <td>2</td>\n",
       "      <td>0</td>\n",
       "    </tr>\n",
       "    <tr>\n",
       "      <th>3</th>\n",
       "      <td>0.0</td>\n",
       "      <td>0.0</td>\n",
       "      <td>0.0</td>\n",
       "      <td>0.0</td>\n",
       "      <td>0.605684</td>\n",
       "      <td>0.0</td>\n",
       "      <td>0.0</td>\n",
       "      <td>0.0</td>\n",
       "      <td>0.0</td>\n",
       "      <td>0.0</td>\n",
       "      <td>...</td>\n",
       "      <td>1</td>\n",
       "      <td>145</td>\n",
       "      <td>4</td>\n",
       "      <td>0.027586</td>\n",
       "      <td>3</td>\n",
       "      <td>10</td>\n",
       "      <td>2</td>\n",
       "      <td>1</td>\n",
       "      <td>1</td>\n",
       "      <td>1</td>\n",
       "    </tr>\n",
       "    <tr>\n",
       "      <th>4</th>\n",
       "      <td>0.0</td>\n",
       "      <td>0.0</td>\n",
       "      <td>0.0</td>\n",
       "      <td>0.0</td>\n",
       "      <td>0.579025</td>\n",
       "      <td>0.0</td>\n",
       "      <td>0.0</td>\n",
       "      <td>0.0</td>\n",
       "      <td>0.0</td>\n",
       "      <td>0.0</td>\n",
       "      <td>...</td>\n",
       "      <td>1</td>\n",
       "      <td>156</td>\n",
       "      <td>5</td>\n",
       "      <td>0.032051</td>\n",
       "      <td>3</td>\n",
       "      <td>12</td>\n",
       "      <td>3</td>\n",
       "      <td>2</td>\n",
       "      <td>0</td>\n",
       "      <td>2</td>\n",
       "    </tr>\n",
       "  </tbody>\n",
       "</table>\n",
       "<p>5 rows × 107 columns</p>\n",
       "</div>"
      ],
      "text/plain": [
       "   ask  babe  buy  care      cash  claim  come  contact  customer   da  ...  \\\n",
       "0  0.0   0.0  0.0   0.0  0.000000    0.0   0.0      0.0       0.0  0.0  ...   \n",
       "1  0.0   0.0  0.0   0.0  0.000000    0.0   0.0      0.0       0.0  0.0  ...   \n",
       "2  0.0   0.0  0.0   0.0  0.000000    0.0   0.0      0.0       0.0  0.0  ...   \n",
       "3  0.0   0.0  0.0   0.0  0.605684    0.0   0.0      0.0       0.0  0.0  ...   \n",
       "4  0.0   0.0  0.0   0.0  0.579025    0.0   0.0      0.0       0.0  0.0  ...   \n",
       "\n",
       "   spam  reviewChars  reviewPuncts  ratiopunChar  reviewCwords  noun_count  \\\n",
       "0     0           48             1      0.020833             0           3   \n",
       "1     0           20             3      0.150000             0           2   \n",
       "2     0           41             2      0.048780             0           2   \n",
       "3     1          145             4      0.027586             3          10   \n",
       "4     1          156             5      0.032051             3          12   \n",
       "\n",
       "   verb_count  adj_count  adv_count  pron_count  \n",
       "0           2          1          1           1  \n",
       "1           0          0          0           1  \n",
       "2           3          0          2           0  \n",
       "3           2          1          1           1  \n",
       "4           3          2          0           2  \n",
       "\n",
       "[5 rows x 107 columns]"
      ]
     },
     "execution_count": 23,
     "metadata": {},
     "output_type": "execute_result"
    }
   ],
   "source": [
    "train_df2.shape\n",
    "train_df2.head()"
   ]
  },
  {
   "cell_type": "markdown",
   "metadata": {},
   "source": [
    "# Loading, Feature Engineering and Preprocessing the test dataset"
   ]
  },
  {
   "cell_type": "markdown",
   "metadata": {},
   "source": [
    "Feature Engineering and pre-processing should be same for both train and test datasets"
   ]
  },
  {
   "cell_type": "code",
   "execution_count": 24,
   "metadata": {},
   "outputs": [
    {
     "data": {
      "text/html": [
       "<div>\n",
       "<style scoped>\n",
       "    .dataframe tbody tr th:only-of-type {\n",
       "        vertical-align: middle;\n",
       "    }\n",
       "\n",
       "    .dataframe tbody tr th {\n",
       "        vertical-align: top;\n",
       "    }\n",
       "\n",
       "    .dataframe thead th {\n",
       "        text-align: right;\n",
       "    }\n",
       "</style>\n",
       "<table border=\"1\" class=\"dataframe\">\n",
       "  <thead>\n",
       "    <tr style=\"text-align: right;\">\n",
       "      <th></th>\n",
       "      <th>id</th>\n",
       "      <th>sms_text</th>\n",
       "    </tr>\n",
       "  </thead>\n",
       "  <tbody>\n",
       "    <tr>\n",
       "      <th>0</th>\n",
       "      <td>12000</td>\n",
       "      <td>HOT LIVE FANTASIES call now 08707509020 Just 2...</td>\n",
       "    </tr>\n",
       "    <tr>\n",
       "      <th>1</th>\n",
       "      <td>12001</td>\n",
       "      <td>I not at home now lei...</td>\n",
       "    </tr>\n",
       "    <tr>\n",
       "      <th>2</th>\n",
       "      <td>12002</td>\n",
       "      <td>So how's scotland. Hope you are not over showi...</td>\n",
       "    </tr>\n",
       "    <tr>\n",
       "      <th>3</th>\n",
       "      <td>12003</td>\n",
       "      <td>Yo you around? A friend of mine's lookin to pi...</td>\n",
       "    </tr>\n",
       "    <tr>\n",
       "      <th>4</th>\n",
       "      <td>12004</td>\n",
       "      <td>I'm aight. Wat's happening on your side.</td>\n",
       "    </tr>\n",
       "  </tbody>\n",
       "</table>\n",
       "</div>"
      ],
      "text/plain": [
       "      id                                           sms_text\n",
       "0  12000  HOT LIVE FANTASIES call now 08707509020 Just 2...\n",
       "1  12001                           I not at home now lei...\n",
       "2  12002  So how's scotland. Hope you are not over showi...\n",
       "3  12003  Yo you around? A friend of mine's lookin to pi...\n",
       "4  12004           I'm aight. Wat's happening on your side."
      ]
     },
     "execution_count": 24,
     "metadata": {},
     "output_type": "execute_result"
    },
    {
     "name": "stdout",
     "output_type": "stream",
     "text": [
      "<class 'pandas.core.frame.DataFrame'>\n",
      "RangeIndex: 559 entries, 0 to 558\n",
      "Data columns (total 2 columns):\n",
      " #   Column    Non-Null Count  Dtype \n",
      "---  ------    --------------  ----- \n",
      " 0   id        559 non-null    int64 \n",
      " 1   sms_text  559 non-null    object\n",
      "dtypes: int64(1), object(1)\n",
      "memory usage: 8.9+ KB\n"
     ]
    },
    {
     "data": {
      "text/plain": [
       "(559, 2)"
      ]
     },
     "execution_count": 24,
     "metadata": {},
     "output_type": "execute_result"
    }
   ],
   "source": [
    "test_df = pd.read_csv(\"spamraw_test.csv\")\n",
    "test_df.head()\n",
    "test_df.info()\n",
    "test_df.shape"
   ]
  },
  {
   "cell_type": "code",
   "execution_count": 25,
   "metadata": {},
   "outputs": [
    {
     "data": {
      "text/plain": [
       "id          0\n",
       "sms_text    0\n",
       "dtype: int64"
      ]
     },
     "execution_count": 25,
     "metadata": {},
     "output_type": "execute_result"
    }
   ],
   "source": [
    "# Checking for missing data\n",
    "test_df.isna().sum()"
   ]
  },
  {
   "cell_type": "code",
   "execution_count": 26,
   "metadata": {},
   "outputs": [],
   "source": [
    "#Feature Engineering\n",
    "\n",
    "#Word Count of each review\n",
    "test_df['word_count'] = test_df['sms_text'].apply(lambda x: len(str(x).split(\" \")))\n",
    "\n",
    "#Character Count of each review\n",
    "test_df['char_count'] = test_df['sms_text'].str.len() ## this also includes spaces\n",
    "\n",
    "#Character count without punctuations\n",
    "punctuation = ['!','\"','#','$','%','&',\"'\",'(',')','*','+',',','-','.','/',':',';','<','=','>','?','@','[','\\\\',']','^','_','`','{','|','}','~','``',\"''\",'--']\n",
    "def count_characters(data_test_df):\n",
    "    reviewcharacters = []\n",
    "    text_col = data_test_df['sms_text']\n",
    "    for i in text_col:\n",
    "        a = dict(Counter(i))\n",
    "        b = {k:v for k, v in a.items() if k not in punctuation}\n",
    "        c = sum(list(b.values()))\n",
    "        reviewcharacters.append(c)\n",
    "    data_test_df['reviewChars'] = reviewcharacters\n",
    "    return data_test_df['reviewChars']\n",
    "test_df['reviewChars'] = count_characters(test_df)\n",
    "\n",
    "#Number of Punctuations\n",
    "\n",
    "def numpunct(data_test_df):\n",
    "    reviewPuncts = []\n",
    "    for i in data_test_df['sms_text']:\n",
    "        a = dict(Counter(i))\n",
    "        b = {k:v for k,v in a.items() if k in punctuation}\n",
    "        c = sum(list(b.values()))\n",
    "        reviewPuncts.append(c)\n",
    "    data_test_df['reviewPuncts'] = reviewPuncts\n",
    "    return data_test_df['reviewPuncts']\n",
    "test_df['reviewPuncts'] = numpunct(test_df)\n",
    "\n",
    "# Ratio of Punctuations to reviewc characters\n",
    "def ratio_puncts_chars(data_test_df):\n",
    "    return data_test_df['reviewPuncts'] / data_test_df['reviewChars']\n",
    "test_df['ratiopunChar'] = ratio_puncts_chars(test_df)\n",
    "\n",
    "#Number of Capital Words\n",
    "def numcapwords(data_test_df):\n",
    "    reviewCwords = []\n",
    "    for i in data_test_df['sms_text']:\n",
    "        a = i.split()\n",
    "        b = [word for word in a if word.isupper()]\n",
    "        c = len(b)\n",
    "        reviewCwords.append(c)\n",
    "    data_test_df['reviewCwords'] = reviewCwords\n",
    "    return data_test_df['reviewCwords']\n",
    "test_df['reviewCwords'] = numcapwords(test_df)\n",
    "\n",
    "\n",
    "#Sentiment Analysis \n",
    "from textblob import TextBlob\n",
    "test_df['polarity_score']=test_df['sms_text'].apply(lambda x:TextBlob(x).sentiment.polarity)\n",
    "\n",
    "#Frequency distribution of Part of Speech Tags\n",
    "test_df['noun_count'] = test_df['sms_text'].apply(lambda x: check_pos_tag(x, 'noun'))\n",
    "test_df['verb_count'] = test_df['sms_text'].apply(lambda x: check_pos_tag(x, 'verb'))\n",
    "test_df['adj_count'] = test_df['sms_text'].apply(lambda x: check_pos_tag(x, 'adj'))\n",
    "test_df['adv_count'] = test_df['sms_text'].apply(lambda x: check_pos_tag(x, 'adv'))\n",
    "test_df['pron_count'] = test_df['sms_text'].apply(lambda x: check_pos_tag(x, 'pron'))\n"
   ]
  },
  {
   "cell_type": "code",
   "execution_count": 27,
   "metadata": {},
   "outputs": [
    {
     "data": {
      "text/html": [
       "<div>\n",
       "<style scoped>\n",
       "    .dataframe tbody tr th:only-of-type {\n",
       "        vertical-align: middle;\n",
       "    }\n",
       "\n",
       "    .dataframe tbody tr th {\n",
       "        vertical-align: top;\n",
       "    }\n",
       "\n",
       "    .dataframe thead th {\n",
       "        text-align: right;\n",
       "    }\n",
       "</style>\n",
       "<table border=\"1\" class=\"dataframe\">\n",
       "  <thead>\n",
       "    <tr style=\"text-align: right;\">\n",
       "      <th></th>\n",
       "      <th>id</th>\n",
       "      <th>sms_text</th>\n",
       "      <th>word_count</th>\n",
       "      <th>char_count</th>\n",
       "      <th>reviewChars</th>\n",
       "      <th>reviewPuncts</th>\n",
       "      <th>ratiopunChar</th>\n",
       "      <th>reviewCwords</th>\n",
       "      <th>polarity_score</th>\n",
       "      <th>noun_count</th>\n",
       "      <th>verb_count</th>\n",
       "      <th>adj_count</th>\n",
       "      <th>adv_count</th>\n",
       "      <th>pron_count</th>\n",
       "    </tr>\n",
       "  </thead>\n",
       "  <tbody>\n",
       "    <tr>\n",
       "      <th>0</th>\n",
       "      <td>12000</td>\n",
       "      <td>HOT LIVE FANTASIES call now 08707509020 Just 2...</td>\n",
       "      <td>19</td>\n",
       "      <td>101</td>\n",
       "      <td>98</td>\n",
       "      <td>3</td>\n",
       "      <td>0.030612</td>\n",
       "      <td>7</td>\n",
       "      <td>0.193182</td>\n",
       "      <td>11</td>\n",
       "      <td>0</td>\n",
       "      <td>0</td>\n",
       "      <td>2</td>\n",
       "      <td>0</td>\n",
       "    </tr>\n",
       "    <tr>\n",
       "      <th>1</th>\n",
       "      <td>12001</td>\n",
       "      <td>I not at home now lei...</td>\n",
       "      <td>6</td>\n",
       "      <td>24</td>\n",
       "      <td>21</td>\n",
       "      <td>3</td>\n",
       "      <td>0.142857</td>\n",
       "      <td>1</td>\n",
       "      <td>0.000000</td>\n",
       "      <td>1</td>\n",
       "      <td>1</td>\n",
       "      <td>0</td>\n",
       "      <td>2</td>\n",
       "      <td>1</td>\n",
       "    </tr>\n",
       "    <tr>\n",
       "      <th>2</th>\n",
       "      <td>12002</td>\n",
       "      <td>So how's scotland. Hope you are not over showi...</td>\n",
       "      <td>17</td>\n",
       "      <td>95</td>\n",
       "      <td>91</td>\n",
       "      <td>4</td>\n",
       "      <td>0.043956</td>\n",
       "      <td>1</td>\n",
       "      <td>0.136364</td>\n",
       "      <td>7</td>\n",
       "      <td>3</td>\n",
       "      <td>0</td>\n",
       "      <td>2</td>\n",
       "      <td>2</td>\n",
       "    </tr>\n",
       "    <tr>\n",
       "      <th>3</th>\n",
       "      <td>12003</td>\n",
       "      <td>Yo you around? A friend of mine's lookin to pi...</td>\n",
       "      <td>13</td>\n",
       "      <td>65</td>\n",
       "      <td>63</td>\n",
       "      <td>2</td>\n",
       "      <td>0.031746</td>\n",
       "      <td>1</td>\n",
       "      <td>0.000000</td>\n",
       "      <td>5</td>\n",
       "      <td>1</td>\n",
       "      <td>0</td>\n",
       "      <td>1</td>\n",
       "      <td>1</td>\n",
       "    </tr>\n",
       "    <tr>\n",
       "      <th>4</th>\n",
       "      <td>12004</td>\n",
       "      <td>I'm aight. Wat's happening on your side.</td>\n",
       "      <td>7</td>\n",
       "      <td>40</td>\n",
       "      <td>36</td>\n",
       "      <td>4</td>\n",
       "      <td>0.111111</td>\n",
       "      <td>0</td>\n",
       "      <td>0.000000</td>\n",
       "      <td>2</td>\n",
       "      <td>2</td>\n",
       "      <td>1</td>\n",
       "      <td>0</td>\n",
       "      <td>2</td>\n",
       "    </tr>\n",
       "  </tbody>\n",
       "</table>\n",
       "</div>"
      ],
      "text/plain": [
       "      id                                           sms_text  word_count  \\\n",
       "0  12000  HOT LIVE FANTASIES call now 08707509020 Just 2...          19   \n",
       "1  12001                           I not at home now lei...           6   \n",
       "2  12002  So how's scotland. Hope you are not over showi...          17   \n",
       "3  12003  Yo you around? A friend of mine's lookin to pi...          13   \n",
       "4  12004           I'm aight. Wat's happening on your side.           7   \n",
       "\n",
       "   char_count  reviewChars  reviewPuncts  ratiopunChar  reviewCwords  \\\n",
       "0         101           98             3      0.030612             7   \n",
       "1          24           21             3      0.142857             1   \n",
       "2          95           91             4      0.043956             1   \n",
       "3          65           63             2      0.031746             1   \n",
       "4          40           36             4      0.111111             0   \n",
       "\n",
       "   polarity_score  noun_count  verb_count  adj_count  adv_count  pron_count  \n",
       "0        0.193182          11           0          0          2           0  \n",
       "1        0.000000           1           1          0          2           1  \n",
       "2        0.136364           7           3          0          2           2  \n",
       "3        0.000000           5           1          0          1           1  \n",
       "4        0.000000           2           2          1          0           2  "
      ]
     },
     "execution_count": 27,
     "metadata": {},
     "output_type": "execute_result"
    }
   ],
   "source": [
    "test_df.head()"
   ]
  },
  {
   "cell_type": "code",
   "execution_count": 28,
   "metadata": {},
   "outputs": [
    {
     "name": "stdout",
     "output_type": "stream",
     "text": [
      "Most frequent words\n"
     ]
    },
    {
     "data": {
      "text/plain": [
       "i      272\n",
       "you    235\n",
       "to     202\n",
       "is     152\n",
       "a      140\n",
       "the    115\n",
       "u       98\n",
       "and     90\n",
       "for     77\n",
       "in      69\n",
       "dtype: int64"
      ]
     },
     "execution_count": 28,
     "metadata": {},
     "output_type": "execute_result"
    },
    {
     "data": {
      "text/html": [
       "<div>\n",
       "<style scoped>\n",
       "    .dataframe tbody tr th:only-of-type {\n",
       "        vertical-align: middle;\n",
       "    }\n",
       "\n",
       "    .dataframe tbody tr th {\n",
       "        vertical-align: top;\n",
       "    }\n",
       "\n",
       "    .dataframe thead th {\n",
       "        text-align: right;\n",
       "    }\n",
       "</style>\n",
       "<table border=\"1\" class=\"dataframe\">\n",
       "  <thead>\n",
       "    <tr style=\"text-align: right;\">\n",
       "      <th></th>\n",
       "      <th>sms_text</th>\n",
       "      <th>Sms_text_pre_clean</th>\n",
       "    </tr>\n",
       "  </thead>\n",
       "  <tbody>\n",
       "    <tr>\n",
       "      <th>0</th>\n",
       "      <td>HOT LIVE FANTASIES call now 08707509020 Just 2...</td>\n",
       "      <td>hot live fantasy call per min ntt ltd po box c...</td>\n",
       "    </tr>\n",
       "    <tr>\n",
       "      <th>1</th>\n",
       "      <td>I not at home now lei...</td>\n",
       "      <td>home lei</td>\n",
       "    </tr>\n",
       "    <tr>\n",
       "      <th>2</th>\n",
       "      <td>So how's scotland. Hope you are not over showi...</td>\n",
       "      <td>scotland hope showing jjc tendency take care l...</td>\n",
       "    </tr>\n",
       "    <tr>\n",
       "      <th>3</th>\n",
       "      <td>Yo you around? A friend of mine's lookin to pi...</td>\n",
       "      <td>yo around friend mine lookin pick later tonight</td>\n",
       "    </tr>\n",
       "    <tr>\n",
       "      <th>4</th>\n",
       "      <td>I'm aight. Wat's happening on your side.</td>\n",
       "      <td>aight wat happening side</td>\n",
       "    </tr>\n",
       "  </tbody>\n",
       "</table>\n",
       "</div>"
      ],
      "text/plain": [
       "                                            sms_text  \\\n",
       "0  HOT LIVE FANTASIES call now 08707509020 Just 2...   \n",
       "1                           I not at home now lei...   \n",
       "2  So how's scotland. Hope you are not over showi...   \n",
       "3  Yo you around? A friend of mine's lookin to pi...   \n",
       "4           I'm aight. Wat's happening on your side.   \n",
       "\n",
       "                                  Sms_text_pre_clean  \n",
       "0  hot live fantasy call per min ntt ltd po box c...  \n",
       "1                                           home lei  \n",
       "2  scotland hope showing jjc tendency take care l...  \n",
       "3    yo around friend mine lookin pick later tonight  \n",
       "4                           aight wat happening side  "
      ]
     },
     "execution_count": 28,
     "metadata": {},
     "output_type": "execute_result"
    },
    {
     "data": {
      "text/html": [
       "<div>\n",
       "<style scoped>\n",
       "    .dataframe tbody tr th:only-of-type {\n",
       "        vertical-align: middle;\n",
       "    }\n",
       "\n",
       "    .dataframe tbody tr th {\n",
       "        vertical-align: top;\n",
       "    }\n",
       "\n",
       "    .dataframe thead th {\n",
       "        text-align: right;\n",
       "    }\n",
       "</style>\n",
       "<table border=\"1\" class=\"dataframe\">\n",
       "  <thead>\n",
       "    <tr style=\"text-align: right;\">\n",
       "      <th></th>\n",
       "      <th>id</th>\n",
       "      <th>sms_text</th>\n",
       "      <th>word_count</th>\n",
       "      <th>char_count</th>\n",
       "      <th>reviewChars</th>\n",
       "      <th>reviewPuncts</th>\n",
       "      <th>ratiopunChar</th>\n",
       "      <th>reviewCwords</th>\n",
       "      <th>polarity_score</th>\n",
       "      <th>noun_count</th>\n",
       "      <th>verb_count</th>\n",
       "      <th>adj_count</th>\n",
       "      <th>adv_count</th>\n",
       "      <th>pron_count</th>\n",
       "      <th>Sms_text_pre</th>\n",
       "      <th>Sms_text_pre_stop</th>\n",
       "      <th>Sms_text_pre_clean</th>\n",
       "    </tr>\n",
       "  </thead>\n",
       "  <tbody>\n",
       "    <tr>\n",
       "      <th>0</th>\n",
       "      <td>12000</td>\n",
       "      <td>HOT LIVE FANTASIES call now 08707509020 Just 2...</td>\n",
       "      <td>19</td>\n",
       "      <td>101</td>\n",
       "      <td>98</td>\n",
       "      <td>3</td>\n",
       "      <td>0.030612</td>\n",
       "      <td>7</td>\n",
       "      <td>0.193182</td>\n",
       "      <td>11</td>\n",
       "      <td>0</td>\n",
       "      <td>0</td>\n",
       "      <td>2</td>\n",
       "      <td>0</td>\n",
       "      <td>hot live fantasies call now just per min ntt l...</td>\n",
       "      <td>hot live fantasies call per min ntt ltd po box...</td>\n",
       "      <td>hot live fantasy call per min ntt ltd po box c...</td>\n",
       "    </tr>\n",
       "    <tr>\n",
       "      <th>1</th>\n",
       "      <td>12001</td>\n",
       "      <td>I not at home now lei...</td>\n",
       "      <td>6</td>\n",
       "      <td>24</td>\n",
       "      <td>21</td>\n",
       "      <td>3</td>\n",
       "      <td>0.142857</td>\n",
       "      <td>1</td>\n",
       "      <td>0.000000</td>\n",
       "      <td>1</td>\n",
       "      <td>1</td>\n",
       "      <td>0</td>\n",
       "      <td>2</td>\n",
       "      <td>1</td>\n",
       "      <td>i not at home now lei</td>\n",
       "      <td>home lei</td>\n",
       "      <td>home lei</td>\n",
       "    </tr>\n",
       "    <tr>\n",
       "      <th>2</th>\n",
       "      <td>12002</td>\n",
       "      <td>So how's scotland. Hope you are not over showi...</td>\n",
       "      <td>17</td>\n",
       "      <td>95</td>\n",
       "      <td>91</td>\n",
       "      <td>4</td>\n",
       "      <td>0.043956</td>\n",
       "      <td>1</td>\n",
       "      <td>0.136364</td>\n",
       "      <td>7</td>\n",
       "      <td>3</td>\n",
       "      <td>0</td>\n",
       "      <td>2</td>\n",
       "      <td>2</td>\n",
       "      <td>so how is scotland hope you are not over showi...</td>\n",
       "      <td>scotland hope showing jjc tendencies take care...</td>\n",
       "      <td>scotland hope showing jjc tendency take care l...</td>\n",
       "    </tr>\n",
       "    <tr>\n",
       "      <th>3</th>\n",
       "      <td>12003</td>\n",
       "      <td>Yo you around? A friend of mine's lookin to pi...</td>\n",
       "      <td>13</td>\n",
       "      <td>65</td>\n",
       "      <td>63</td>\n",
       "      <td>2</td>\n",
       "      <td>0.031746</td>\n",
       "      <td>1</td>\n",
       "      <td>0.000000</td>\n",
       "      <td>5</td>\n",
       "      <td>1</td>\n",
       "      <td>0</td>\n",
       "      <td>1</td>\n",
       "      <td>1</td>\n",
       "      <td>yo you around a friend of mine is lookin to pi...</td>\n",
       "      <td>yo around friend mine lookin pick later tonight</td>\n",
       "      <td>yo around friend mine lookin pick later tonight</td>\n",
       "    </tr>\n",
       "    <tr>\n",
       "      <th>4</th>\n",
       "      <td>12004</td>\n",
       "      <td>I'm aight. Wat's happening on your side.</td>\n",
       "      <td>7</td>\n",
       "      <td>40</td>\n",
       "      <td>36</td>\n",
       "      <td>4</td>\n",
       "      <td>0.111111</td>\n",
       "      <td>0</td>\n",
       "      <td>0.000000</td>\n",
       "      <td>2</td>\n",
       "      <td>2</td>\n",
       "      <td>1</td>\n",
       "      <td>0</td>\n",
       "      <td>2</td>\n",
       "      <td>i am aight wat is happening on your side</td>\n",
       "      <td>aight wat happening side</td>\n",
       "      <td>aight wat happening side</td>\n",
       "    </tr>\n",
       "  </tbody>\n",
       "</table>\n",
       "</div>"
      ],
      "text/plain": [
       "      id                                           sms_text  word_count  \\\n",
       "0  12000  HOT LIVE FANTASIES call now 08707509020 Just 2...          19   \n",
       "1  12001                           I not at home now lei...           6   \n",
       "2  12002  So how's scotland. Hope you are not over showi...          17   \n",
       "3  12003  Yo you around? A friend of mine's lookin to pi...          13   \n",
       "4  12004           I'm aight. Wat's happening on your side.           7   \n",
       "\n",
       "   char_count  reviewChars  reviewPuncts  ratiopunChar  reviewCwords  \\\n",
       "0         101           98             3      0.030612             7   \n",
       "1          24           21             3      0.142857             1   \n",
       "2          95           91             4      0.043956             1   \n",
       "3          65           63             2      0.031746             1   \n",
       "4          40           36             4      0.111111             0   \n",
       "\n",
       "   polarity_score  noun_count  verb_count  adj_count  adv_count  pron_count  \\\n",
       "0        0.193182          11           0          0          2           0   \n",
       "1        0.000000           1           1          0          2           1   \n",
       "2        0.136364           7           3          0          2           2   \n",
       "3        0.000000           5           1          0          1           1   \n",
       "4        0.000000           2           2          1          0           2   \n",
       "\n",
       "                                        Sms_text_pre  \\\n",
       "0  hot live fantasies call now just per min ntt l...   \n",
       "1                              i not at home now lei   \n",
       "2  so how is scotland hope you are not over showi...   \n",
       "3  yo you around a friend of mine is lookin to pi...   \n",
       "4           i am aight wat is happening on your side   \n",
       "\n",
       "                                   Sms_text_pre_stop  \\\n",
       "0  hot live fantasies call per min ntt ltd po box...   \n",
       "1                                           home lei   \n",
       "2  scotland hope showing jjc tendencies take care...   \n",
       "3    yo around friend mine lookin pick later tonight   \n",
       "4                           aight wat happening side   \n",
       "\n",
       "                                  Sms_text_pre_clean  \n",
       "0  hot live fantasy call per min ntt ltd po box c...  \n",
       "1                                           home lei  \n",
       "2  scotland hope showing jjc tendency take care l...  \n",
       "3    yo around friend mine lookin pick later tonight  \n",
       "4                           aight wat happening side  "
      ]
     },
     "execution_count": 28,
     "metadata": {},
     "output_type": "execute_result"
    }
   ],
   "source": [
    "# Remove ,,, from entries in name column\n",
    "test_df['Sms_text_pre'] = test_df['sms_text'].str.replace(r'\\,,,','')\n",
    "#test_df['Sms_text_pre'].unique()\n",
    "\n",
    "#Remove contractions from text reviews\n",
    "# Dictionary of English Contractions\n",
    "contractions_dict = { \"It's\":\"It is\",\"it's\":\"it is\", \"ain't\": \"are not\",\"'s\":\" is\",\"aren't\": \"are not\",\n",
    "                     \"can't\": \"cannot\",\"can't've\": \"cannot have\",\n",
    "                     \"'cause\": \"because\",\"could've\": \"could have\",\"couldn't\": \"could not\",\n",
    "                     \"couldn't've\": \"could not have\", \"didn't\": \"did not\",\"doesn't\": \"does not\",\n",
    "                     \"don't\": \"do not\",\"hadn't\": \"had not\",\"hadn't've\": \"had not have\",\n",
    "                     \"hasn't\": \"has not\",\"haven't\": \"have not\",\"he'd\": \"he would\",\n",
    "                     \"he'd've\": \"he would have\",\"he'll\": \"he will\", \"he'll've\": \"he will have\",\n",
    "                     \"how'd\": \"how did\",\"how'd'y\": \"how do you\",\"how'll\": \"how will\",\n",
    "                     \"I'd\": \"I would\", \"I'd've\": \"I would have\",\"I'll\": \"I will\",\n",
    "                     \"I'll've\": \"I will have\",\"I'm\": \"I am\",\"I've\": \"I have\", \"isn't\": \"is not\",\n",
    "                     \"it'd\": \"it would\",\"it'd've\": \"it would have\",\"it'll\": \"it will\",\n",
    "                     \"it'll've\": \"it will have\", \"let's\": \"let us\",\"ma'am\": \"madam\",\n",
    "                     \"mayn't\": \"may not\",\"might've\": \"might have\",\"mightn't\": \"might not\", \n",
    "                     \"mightn't've\": \"might not have\",\"must've\": \"must have\",\"mustn't\": \"must not\",\n",
    "                     \"mustn't've\": \"must not have\", \"needn't\": \"need not\",\n",
    "                     \"needn't've\": \"need not have\",\"o'clock\": \"of the clock\",\"oughtn't\": \"ought not\",\n",
    "                     \"oughtn't've\": \"ought not have\",\"shan't\": \"shall not\",\"sha'n't\": \"shall not\",\n",
    "                     \"shan't've\": \"shall not have\",\"she'd\": \"she would\",\"she'd've\": \"she would have\",\n",
    "                     \"she'll\": \"she will\", \"she'll've\": \"she will have\",\"should've\": \"should have\",\n",
    "                     \"shouldn't\": \"should not\", \"shouldn't've\": \"should not have\",\"so've\": \"so have\",\n",
    "                     \"that'd\": \"that would\",\"that'd've\": \"that would have\", \"there'd\": \"there would\",\n",
    "                     \"there'd've\": \"there would have\", \"they'd\": \"they would\",\n",
    "                     \"they'd've\": \"they would have\",\"they'll\": \"they will\",\n",
    "                     \"they'll've\": \"they will have\", \"they're\": \"they are\",\"they've\": \"they have\",\n",
    "                     \"to've\": \"to have\",\"wasn't\": \"was not\",\"we'd\": \"we would\",\n",
    "                     \"we'd've\": \"we would have\",\"we'll\": \"we will\",\"we'll've\": \"we will have\",\n",
    "                     \"we're\": \"we are\",\"we've\": \"we have\", \"weren't\": \"were not\",\"what'll\": \"what will\",\n",
    "                     \"what'll've\": \"what will have\",\"what're\": \"what are\", \"what've\": \"what have\",\n",
    "                     \"when've\": \"when have\",\"where'd\": \"where did\", \"where've\": \"where have\",\n",
    "                     \"who'll\": \"who will\",\"who'll've\": \"who will have\",\"who've\": \"who have\",\n",
    "                     \"why've\": \"why have\",\"will've\": \"will have\",\"won't\": \"will not\",\n",
    "                     \"won't've\": \"will not have\", \"would've\": \"would have\",\"wouldn't\": \"would not\",\n",
    "                     \"wouldn't've\": \"would not have\",\"y'all\": \"you all\", \"y'all'd\": \"you all would\",\n",
    "                     \"y'all'd've\": \"you all would have\",\"y'all're\": \"you all are\",\n",
    "                     \"y'all've\": \"you all have\", \"you'd\": \"you would\",\"you'd've\": \"you would have\",\n",
    "                     \"you'll\": \"you will\",\"you'll've\": \"you will have\", \"you're\": \"you are\",\n",
    "                     \"you've\": \"you have\"}\n",
    "\n",
    "# Regular expression for finding contractions\n",
    "contractions_re=re.compile('(%s)' % '|'.join(contractions_dict.keys()))\n",
    "\n",
    "# Function for expanding contractions\n",
    "def expand_contractions(text,contractions_dict=contractions_dict):\n",
    "  def replace(match):\n",
    "    return contractions_dict[match.group(0)]\n",
    "  return contractions_re.sub(replace, text)\n",
    "\n",
    "# Expanding Contractions in the reviews\n",
    "test_df['Sms_text_pre']=test_df['Sms_text_pre'].apply(lambda x:expand_contractions(x))\n",
    "\n",
    "#Lowercase letters\n",
    "test_df['Sms_text_pre']=test_df['Sms_text_pre'].str.lower()\n",
    "\n",
    "#Remove digits and words containing digits \n",
    "test_df['Sms_text_pre']=test_df['Sms_text_pre'].apply(lambda x: re.sub('\\w*\\d\\w*','', x))\n",
    "\n",
    "#Remove Punctuations\n",
    "test_df['Sms_text_pre']=test_df['Sms_text_pre'].apply(lambda x: re.sub('[%s]' % re.escape(string.punctuation), '', x))\n",
    "\n",
    "#Commonly occuring words\n",
    "freq = pd.Series(' '.join(test_df['Sms_text_pre']).split()).value_counts()[:10]\n",
    "print(\"Most frequent words\")\n",
    "freq\n",
    "\n",
    "#removal of commonly occuring irrelevant words\n",
    "freq = list(freq)\n",
    "test_df['Sms_text_pre'] = test_df['Sms_text_pre'].apply(lambda x: \" \".join(x for x in x.split() if x not in freq))\n",
    "\n",
    "#Count of rare words\n",
    "\n",
    "freq_rare = pd.Series(' '.join(test_df['Sms_text_pre']).split()).value_counts()[-10:]\n",
    "#freq_rare\n",
    "\n",
    "#removal of rarely occuring irrelevant words\n",
    "freq_rare = list(freq_rare)\n",
    "test_df['Sms_text_pre'] = test_df['Sms_text_pre'].apply(lambda x: \" \".join(x for x in x.split() if x not in freq))\n",
    "\n",
    "# Exclude stopwords with Python's list comprehension and pandas.DataFrame.apply.\n",
    "from nltk.corpus import stopwords\n",
    "stop = stopwords.words('english')\n",
    "test_df['Sms_text_pre_stop'] = test_df['Sms_text_pre'].apply(lambda x: ' '.join([word for word in x.split() if word not in (stop)]))\n",
    "\n",
    "#Lemmatization\n",
    "\n",
    "from textblob import Word\n",
    "test_df['Sms_text_pre_clean'] = test_df['Sms_text_pre_stop'].apply(lambda x: \" \".join([Word(word).lemmatize() for word in x.split()]))\n",
    "\n",
    "test_df[[\"sms_text\",\"Sms_text_pre_clean\"]].head()\n",
    "test_df.head()\n"
   ]
  },
  {
   "cell_type": "code",
   "execution_count": 29,
   "metadata": {},
   "outputs": [],
   "source": [
    "#Text Vectorizer  \n",
    "\n",
    "#fit the vectorizers to the data\n",
    "\n",
    "features1= vectorizer.transform(test_df['Sms_text_pre_clean'])\n",
    "pandaframe1 = pd.DataFrame(features1.toarray(), columns=vectorizer.get_feature_names())"
   ]
  },
  {
   "cell_type": "code",
   "execution_count": 30,
   "metadata": {},
   "outputs": [],
   "source": [
    "#Choose Features and combine word features with other features \n",
    "test_df1 = test_df[['word_count', 'char_count','polarity_score','reviewChars','reviewPuncts','ratiopunChar','reviewCwords','noun_count','verb_count','adj_count','adv_count','pron_count']]\n",
    "test_df2 = pd.concat([pandaframe1.reset_index(drop=True), test_df1.reset_index(drop=True)], axis=1)"
   ]
  },
  {
   "cell_type": "code",
   "execution_count": 31,
   "metadata": {},
   "outputs": [],
   "source": [
    "#Repace infiniti values with zero, if any to avoid errors when building the model\n",
    "test_df2 = test_df2.replace([np.inf, -np.inf], np.nan)\n",
    "test_df2[\"ratiopunChar\"]=test_df2[\"ratiopunChar\"].fillna(0)"
   ]
  },
  {
   "cell_type": "code",
   "execution_count": 32,
   "metadata": {},
   "outputs": [
    {
     "data": {
      "text/html": [
       "<div>\n",
       "<style scoped>\n",
       "    .dataframe tbody tr th:only-of-type {\n",
       "        vertical-align: middle;\n",
       "    }\n",
       "\n",
       "    .dataframe tbody tr th {\n",
       "        vertical-align: top;\n",
       "    }\n",
       "\n",
       "    .dataframe thead th {\n",
       "        text-align: right;\n",
       "    }\n",
       "</style>\n",
       "<table border=\"1\" class=\"dataframe\">\n",
       "  <thead>\n",
       "    <tr style=\"text-align: right;\">\n",
       "      <th></th>\n",
       "      <th>ask</th>\n",
       "      <th>babe</th>\n",
       "      <th>buy</th>\n",
       "      <th>care</th>\n",
       "      <th>cash</th>\n",
       "      <th>claim</th>\n",
       "      <th>come</th>\n",
       "      <th>contact</th>\n",
       "      <th>customer</th>\n",
       "      <th>da</th>\n",
       "      <th>...</th>\n",
       "      <th>polarity_score</th>\n",
       "      <th>reviewChars</th>\n",
       "      <th>reviewPuncts</th>\n",
       "      <th>ratiopunChar</th>\n",
       "      <th>reviewCwords</th>\n",
       "      <th>noun_count</th>\n",
       "      <th>verb_count</th>\n",
       "      <th>adj_count</th>\n",
       "      <th>adv_count</th>\n",
       "      <th>pron_count</th>\n",
       "    </tr>\n",
       "  </thead>\n",
       "  <tbody>\n",
       "    <tr>\n",
       "      <th>0</th>\n",
       "      <td>0.0</td>\n",
       "      <td>0.0</td>\n",
       "      <td>0.0</td>\n",
       "      <td>0.000000</td>\n",
       "      <td>0.0</td>\n",
       "      <td>0.0</td>\n",
       "      <td>0.0</td>\n",
       "      <td>0.0</td>\n",
       "      <td>0.0</td>\n",
       "      <td>0.0</td>\n",
       "      <td>...</td>\n",
       "      <td>0.193182</td>\n",
       "      <td>98</td>\n",
       "      <td>3</td>\n",
       "      <td>0.030612</td>\n",
       "      <td>7</td>\n",
       "      <td>11</td>\n",
       "      <td>0</td>\n",
       "      <td>0</td>\n",
       "      <td>2</td>\n",
       "      <td>0</td>\n",
       "    </tr>\n",
       "    <tr>\n",
       "      <th>1</th>\n",
       "      <td>0.0</td>\n",
       "      <td>0.0</td>\n",
       "      <td>0.0</td>\n",
       "      <td>0.000000</td>\n",
       "      <td>0.0</td>\n",
       "      <td>0.0</td>\n",
       "      <td>0.0</td>\n",
       "      <td>0.0</td>\n",
       "      <td>0.0</td>\n",
       "      <td>0.0</td>\n",
       "      <td>...</td>\n",
       "      <td>0.000000</td>\n",
       "      <td>21</td>\n",
       "      <td>3</td>\n",
       "      <td>0.142857</td>\n",
       "      <td>1</td>\n",
       "      <td>1</td>\n",
       "      <td>1</td>\n",
       "      <td>0</td>\n",
       "      <td>2</td>\n",
       "      <td>1</td>\n",
       "    </tr>\n",
       "    <tr>\n",
       "      <th>2</th>\n",
       "      <td>0.0</td>\n",
       "      <td>0.0</td>\n",
       "      <td>0.0</td>\n",
       "      <td>0.732499</td>\n",
       "      <td>0.0</td>\n",
       "      <td>0.0</td>\n",
       "      <td>0.0</td>\n",
       "      <td>0.0</td>\n",
       "      <td>0.0</td>\n",
       "      <td>0.0</td>\n",
       "      <td>...</td>\n",
       "      <td>0.136364</td>\n",
       "      <td>91</td>\n",
       "      <td>4</td>\n",
       "      <td>0.043956</td>\n",
       "      <td>1</td>\n",
       "      <td>7</td>\n",
       "      <td>3</td>\n",
       "      <td>0</td>\n",
       "      <td>2</td>\n",
       "      <td>2</td>\n",
       "    </tr>\n",
       "    <tr>\n",
       "      <th>3</th>\n",
       "      <td>0.0</td>\n",
       "      <td>0.0</td>\n",
       "      <td>0.0</td>\n",
       "      <td>0.000000</td>\n",
       "      <td>0.0</td>\n",
       "      <td>0.0</td>\n",
       "      <td>0.0</td>\n",
       "      <td>0.0</td>\n",
       "      <td>0.0</td>\n",
       "      <td>0.0</td>\n",
       "      <td>...</td>\n",
       "      <td>0.000000</td>\n",
       "      <td>63</td>\n",
       "      <td>2</td>\n",
       "      <td>0.031746</td>\n",
       "      <td>1</td>\n",
       "      <td>5</td>\n",
       "      <td>1</td>\n",
       "      <td>0</td>\n",
       "      <td>1</td>\n",
       "      <td>1</td>\n",
       "    </tr>\n",
       "    <tr>\n",
       "      <th>4</th>\n",
       "      <td>0.0</td>\n",
       "      <td>0.0</td>\n",
       "      <td>0.0</td>\n",
       "      <td>0.000000</td>\n",
       "      <td>0.0</td>\n",
       "      <td>0.0</td>\n",
       "      <td>0.0</td>\n",
       "      <td>0.0</td>\n",
       "      <td>0.0</td>\n",
       "      <td>0.0</td>\n",
       "      <td>...</td>\n",
       "      <td>0.000000</td>\n",
       "      <td>36</td>\n",
       "      <td>4</td>\n",
       "      <td>0.111111</td>\n",
       "      <td>0</td>\n",
       "      <td>2</td>\n",
       "      <td>2</td>\n",
       "      <td>1</td>\n",
       "      <td>0</td>\n",
       "      <td>2</td>\n",
       "    </tr>\n",
       "  </tbody>\n",
       "</table>\n",
       "<p>5 rows × 106 columns</p>\n",
       "</div>"
      ],
      "text/plain": [
       "   ask  babe  buy      care  cash  claim  come  contact  customer   da  ...  \\\n",
       "0  0.0   0.0  0.0  0.000000   0.0    0.0   0.0      0.0       0.0  0.0  ...   \n",
       "1  0.0   0.0  0.0  0.000000   0.0    0.0   0.0      0.0       0.0  0.0  ...   \n",
       "2  0.0   0.0  0.0  0.732499   0.0    0.0   0.0      0.0       0.0  0.0  ...   \n",
       "3  0.0   0.0  0.0  0.000000   0.0    0.0   0.0      0.0       0.0  0.0  ...   \n",
       "4  0.0   0.0  0.0  0.000000   0.0    0.0   0.0      0.0       0.0  0.0  ...   \n",
       "\n",
       "   polarity_score  reviewChars  reviewPuncts  ratiopunChar  reviewCwords  \\\n",
       "0        0.193182           98             3      0.030612             7   \n",
       "1        0.000000           21             3      0.142857             1   \n",
       "2        0.136364           91             4      0.043956             1   \n",
       "3        0.000000           63             2      0.031746             1   \n",
       "4        0.000000           36             4      0.111111             0   \n",
       "\n",
       "   noun_count  verb_count  adj_count  adv_count  pron_count  \n",
       "0          11           0          0          2           0  \n",
       "1           1           1          0          2           1  \n",
       "2           7           3          0          2           2  \n",
       "3           5           1          0          1           1  \n",
       "4           2           2          1          0           2  \n",
       "\n",
       "[5 rows x 106 columns]"
      ]
     },
     "execution_count": 32,
     "metadata": {},
     "output_type": "execute_result"
    },
    {
     "data": {
      "text/plain": [
       "(559, 106)"
      ]
     },
     "execution_count": 32,
     "metadata": {},
     "output_type": "execute_result"
    }
   ],
   "source": [
    "test_df2.head()\n",
    "test_df2.shape"
   ]
  },
  {
   "cell_type": "markdown",
   "metadata": {},
   "source": [
    "# Machine Learning Algorithms"
   ]
  },
  {
   "cell_type": "code",
   "execution_count": 33,
   "metadata": {},
   "outputs": [],
   "source": [
    "# Splitting the pre-processed train dataset into train and test\n",
    "\n",
    "from sklearn.model_selection import train_test_split\n",
    "X = train_df2.drop(['spam'],axis=1)\n",
    "y = train_df2['spam']\n",
    "\n",
    "X_train, X_test, y_train, y_test = train_test_split(X, y, test_size=0.2, stratify = y, random_state=42)"
   ]
  },
  {
   "cell_type": "code",
   "execution_count": 34,
   "metadata": {},
   "outputs": [
    {
     "name": "stdout",
     "output_type": "stream",
     "text": [
      "(4000, 106)\n",
      "(1000, 106)\n",
      "(4000,)\n",
      "(1000,)\n"
     ]
    }
   ],
   "source": [
    "print(X_train.shape)\n",
    "print(X_test.shape)\n",
    "print(y_train.shape)\n",
    "print(y_test.shape)"
   ]
  },
  {
   "cell_type": "code",
   "execution_count": 35,
   "metadata": {},
   "outputs": [],
   "source": [
    "from sklearn.impute import SimpleImputer\n",
    "from sklearn.model_selection import GridSearchCV\n",
    "from sklearn.metrics import roc_curve,auc,roc_auc_score,classification_report,confusion_matrix,make_scorer\n",
    "from sklearn.metrics import classification_report, f1_score\n",
    "from sklearn.metrics import accuracy_score\n",
    "from sklearn.linear_model import LogisticRegression\n",
    "from sklearn.tree import DecisionTreeClassifier\n",
    "from sklearn.ensemble import RandomForestClassifier, GradientBoostingClassifier"
   ]
  },
  {
   "cell_type": "code",
   "execution_count": 36,
   "metadata": {},
   "outputs": [],
   "source": [
    "class_threshold = 0.5"
   ]
  },
  {
   "cell_type": "markdown",
   "metadata": {},
   "source": [
    "# Model No 1: Logistic Regression"
   ]
  },
  {
   "cell_type": "code",
   "execution_count": 37,
   "metadata": {},
   "outputs": [
    {
     "name": "stdout",
     "output_type": "stream",
     "text": [
      "Wall time: 2min 34s\n"
     ]
    },
    {
     "data": {
      "text/plain": [
       "GridSearchCV(cv=5, estimator=LogisticRegression(random_state=42), n_jobs=2,\n",
       "             param_grid={'C': [0.001, 0.01, 0.1, 1, 10, 100, 1000],\n",
       "                         'dual': [True, False], 'fit_intercept': [True, False],\n",
       "                         'penalty': ['l1', 'l2'],\n",
       "                         'solver': ['saga', 'lbfgs', 'liblinear']},\n",
       "             scoring='f1_weighted')"
      ]
     },
     "execution_count": 37,
     "metadata": {},
     "output_type": "execute_result"
    },
    {
     "data": {
      "text/plain": [
       "{'C': 10,\n",
       " 'dual': False,\n",
       " 'fit_intercept': True,\n",
       " 'penalty': 'l1',\n",
       " 'solver': 'liblinear'}"
      ]
     },
     "execution_count": 37,
     "metadata": {},
     "output_type": "execute_result"
    }
   ],
   "source": [
    "# Hypertuning the Logistic Regression Model\n",
    "\n",
    "parameters_grid = {'penalty':['l1', 'l2'],\n",
    "                   'dual':[True, False],'C':[0.001, 0.01, 0.1, 1, 10, 100, 1000], \n",
    "                   'fit_intercept':[True, False],         \n",
    "                   'solver':['saga','lbfgs','liblinear']} \n",
    "\n",
    "# Create grid search object with cross validating it 5 times  \n",
    "LogReg_grid = GridSearchCV(LogisticRegression(random_state=42), parameters_grid, cv=5, n_jobs=2, scoring='f1_weighted') \n",
    "\n",
    "# Fit on data  \n",
    "%time LogReg_grid.fit(X_train, y_train) \n",
    "\n",
    "LogReg_grid.best_params_ # printing out best parameters\n"
   ]
  },
  {
   "cell_type": "code",
   "execution_count": 38,
   "metadata": {},
   "outputs": [
    {
     "name": "stdout",
     "output_type": "stream",
     "text": [
      "Metrics of the logistic regression model after variable selection: \n",
      "\n",
      "Confusion matrix:\n",
      "[[853  12]\n",
      " [ 17 118]]\n",
      "\n",
      "F1 Score = 0.97100\n",
      "AUC Score = 0.930\n",
      "Accuracy = 0.971\n",
      "\n",
      "Classification Report:\n",
      "              precision    recall  f1-score   support\n",
      "\n",
      "           0       0.98      0.99      0.98       865\n",
      "           1       0.91      0.87      0.89       135\n",
      "\n",
      "    accuracy                           0.97      1000\n",
      "   macro avg       0.94      0.93      0.94      1000\n",
      "weighted avg       0.97      0.97      0.97      1000\n",
      "\n"
     ]
    },
    {
     "data": {
      "text/plain": [
       "(853, 12, 17, 118)"
      ]
     },
     "execution_count": 38,
     "metadata": {},
     "output_type": "execute_result"
    },
    {
     "data": {
      "text/plain": [
       "<matplotlib.axes._subplots.AxesSubplot at 0x266ea62fb88>"
      ]
     },
     "execution_count": 38,
     "metadata": {},
     "output_type": "execute_result"
    },
    {
     "data": {
      "image/png": "[encoded data removed]",
      "text/plain": [
       "<Figure size 432x288 with 2 Axes>"
      ]
     },
     "metadata": {
      "needs_background": "light"
     },
     "output_type": "display_data"
    }
   ],
   "source": [
    "y_pred = LogReg_grid.predict(X_test)\n",
    "\n",
    "print('Metrics of the logistic regression model after variable selection: \\n')\n",
    "\n",
    "print(\"Confusion matrix:\")\n",
    "print(confusion_matrix(y_test, y_pred))\n",
    "\n",
    "print(\"\\nF1 Score = {:.5f}\".format(f1_score(y_test, y_pred, average=\"micro\")))\n",
    "print(\"AUC Score = {:.3f}\".format(roc_auc_score(y_test, y_pred)))\n",
    "print(\"Accuracy = {:.3f}\".format(accuracy_score(y_test, y_pred)))\n",
    "\n",
    "print(\"\\nClassification Report:\")\n",
    "print(classification_report(y_test, y_pred))\n",
    "\n",
    "cf_matrix = confusion_matrix(y_test, y_pred)\n",
    "tn, fp, fn, tp = confusion_matrix(y_test, y_pred).ravel()\n",
    "(tn, fp, fn, tp)\n",
    "\n",
    "sns.heatmap(cf_matrix/np.sum(cf_matrix), annot=True, \n",
    "            fmt='.2%', cmap='Blues')"
   ]
  },
  {
   "cell_type": "code",
   "execution_count": 39,
   "metadata": {},
   "outputs": [
    {
     "data": {
      "text/html": [
       "<div>\n",
       "<style scoped>\n",
       "    .dataframe tbody tr th:only-of-type {\n",
       "        vertical-align: middle;\n",
       "    }\n",
       "\n",
       "    .dataframe tbody tr th {\n",
       "        vertical-align: top;\n",
       "    }\n",
       "\n",
       "    .dataframe thead th {\n",
       "        text-align: right;\n",
       "    }\n",
       "</style>\n",
       "<table border=\"1\" class=\"dataframe\">\n",
       "  <thead>\n",
       "    <tr style=\"text-align: right;\">\n",
       "      <th></th>\n",
       "      <th>id</th>\n",
       "      <th>predicted</th>\n",
       "    </tr>\n",
       "  </thead>\n",
       "  <tbody>\n",
       "    <tr>\n",
       "      <th>0</th>\n",
       "      <td>12000</td>\n",
       "      <td>1</td>\n",
       "    </tr>\n",
       "    <tr>\n",
       "      <th>1</th>\n",
       "      <td>12001</td>\n",
       "      <td>0</td>\n",
       "    </tr>\n",
       "    <tr>\n",
       "      <th>2</th>\n",
       "      <td>12002</td>\n",
       "      <td>0</td>\n",
       "    </tr>\n",
       "    <tr>\n",
       "      <th>3</th>\n",
       "      <td>12003</td>\n",
       "      <td>0</td>\n",
       "    </tr>\n",
       "    <tr>\n",
       "      <th>4</th>\n",
       "      <td>12004</td>\n",
       "      <td>0</td>\n",
       "    </tr>\n",
       "  </tbody>\n",
       "</table>\n",
       "</div>"
      ],
      "text/plain": [
       "      id  predicted\n",
       "0  12000          1\n",
       "1  12001          0\n",
       "2  12002          0\n",
       "3  12003          0\n",
       "4  12004          0"
      ]
     },
     "execution_count": 39,
     "metadata": {},
     "output_type": "execute_result"
    }
   ],
   "source": [
    "# Making predictions on the test dataset\n",
    "# Make sure to transform/create the features the same way you did for training\n",
    "# For now, nothing to do\n",
    "\n",
    "X_pred = test_df2\n",
    "\n",
    "# Using the model to make predictions on the test dataset\n",
    "pred_test_LR = LogReg_grid.predict(X_pred)\n",
    "\n",
    "# Output of the predicted results\n",
    "results_LR = pd.DataFrame({'id': test_df.id,'predicted': pred_test_LR})\n",
    "results_LR.head()"
   ]
  },
  {
   "cell_type": "code",
   "execution_count": 40,
   "metadata": {},
   "outputs": [],
   "source": [
    "# Writing the csv file\n",
    "results_LR.to_csv(\"results_Logit.csv\",index=False)"
   ]
  },
  {
   "cell_type": "markdown",
   "metadata": {},
   "source": [
    "# Model No 2: Decision Tree"
   ]
  },
  {
   "cell_type": "code",
   "execution_count": 42,
   "metadata": {},
   "outputs": [
    {
     "name": "stdout",
     "output_type": "stream",
     "text": [
      "Optimized hyper-parameters:{'criterion': 'gini', 'max_depth': None, 'max_leaf_nodes': 39}\n"
     ]
    }
   ],
   "source": [
    "# Hyper-parameter tuning (\"optimization\") using the function GridSearchCV for maximizing AUC\n",
    "classifier_DT = DecisionTreeClassifier(random_state=42)\n",
    "\n",
    "score_func = make_scorer(f1_score, greater_is_better=True)\n",
    "\n",
    "Grid_srch_parameters_list = [ [{\"criterion\": [\"gini\", \"entropy\"],\n",
    "                                'max_depth':[None,2, 3, 4, 5, 6],\n",
    "                                'max_leaf_nodes':np.arange(2, 40),                               \n",
    "                               }] ] \n",
    "\n",
    "# we will apply a 5-fold cross-validation and call the resultant function \"grid_search\"\n",
    "grid_search = GridSearchCV(estimator = classifier_DT, cv = 5, param_grid = Grid_srch_parameters_list[0], scoring = score_func,\n",
    "                              return_train_score = True) \n",
    "\n",
    "# apply function grid_search to the training data, call the resultand best model grid_search_RF\n",
    "grid_search_DT = grid_search.fit(X_train, y_train)\n",
    "\n",
    "# use the best model to predict the testing data\n",
    "y_pred_prob = grid_search_DT.predict_proba(X_test)[:,1] # probabilities  \n",
    "y_pred = np.where(y_pred_prob > class_threshold, 1, 0) # classification\n",
    "\n",
    "print('Optimized hyper-parameters:' + str(grid_search.best_params_))"
   ]
  },
  {
   "cell_type": "code",
   "execution_count": 43,
   "metadata": {},
   "outputs": [
    {
     "name": "stdout",
     "output_type": "stream",
     "text": [
      "Confusion matrix:\n",
      "[[838  27]\n",
      " [ 32 103]]\n",
      "\n",
      "F1 Score = 0.94100\n",
      "AUC Score = 0.866\n",
      "Accuracy = 0.941\n",
      "\n",
      "Classification Report:\n",
      "              precision    recall  f1-score   support\n",
      "\n",
      "           0       0.96      0.97      0.97       865\n",
      "           1       0.79      0.76      0.78       135\n",
      "\n",
      "    accuracy                           0.94      1000\n",
      "   macro avg       0.88      0.87      0.87      1000\n",
      "weighted avg       0.94      0.94      0.94      1000\n",
      "\n"
     ]
    },
    {
     "data": {
      "text/plain": [
       "(838, 27, 32, 103)"
      ]
     },
     "execution_count": 43,
     "metadata": {},
     "output_type": "execute_result"
    },
    {
     "data": {
      "text/plain": [
       "<matplotlib.axes._subplots.AxesSubplot at 0x266ea5bccc8>"
      ]
     },
     "execution_count": 43,
     "metadata": {},
     "output_type": "execute_result"
    },
    {
     "data": {
      "image/png": "[encoded data removed]",
      "text/plain": [
       "<Figure size 432x288 with 2 Axes>"
      ]
     },
     "metadata": {
      "needs_background": "light"
     },
     "output_type": "display_data"
    }
   ],
   "source": [
    "print(\"Confusion matrix:\")\n",
    "print(confusion_matrix(y_test, y_pred))\n",
    "\n",
    "print(\"\\nF1 Score = {:.5f}\".format(f1_score(y_test, y_pred, average=\"micro\")))\n",
    "print(\"AUC Score = {:.3f}\".format(roc_auc_score(y_test, y_pred)))\n",
    "print(\"Accuracy = {:.3f}\".format(accuracy_score(y_test, y_pred)))\n",
    "\n",
    "print(\"\\nClassification Report:\")\n",
    "print(classification_report(y_test, y_pred))\n",
    "\n",
    "cf_matrix = confusion_matrix(y_test, y_pred)\n",
    "tn, fp, fn, tp = confusion_matrix(y_test, y_pred).ravel()\n",
    "(tn, fp, fn, tp)\n",
    "\n",
    "sns.heatmap(cf_matrix/np.sum(cf_matrix), annot=True, \n",
    "            fmt='.2%', cmap='Blues')"
   ]
  },
  {
   "cell_type": "markdown",
   "metadata": {},
   "source": [
    "# Model No 2: Random Forest"
   ]
  },
  {
   "cell_type": "code",
   "execution_count": 44,
   "metadata": {},
   "outputs": [
    {
     "name": "stdout",
     "output_type": "stream",
     "text": [
      "Optimized hyper-parameters:{'criterion': 'entropy', 'max_depth': None, 'max_leaf_nodes': None, 'n_estimators': 200}\n"
     ]
    }
   ],
   "source": [
    "# Define a random forest model and call it classifier_RF\n",
    "classifier_RF = RandomForestClassifier(random_state=42)\n",
    "\n",
    "# Hyper-parameter tuning (\"optimization\") using the function GridSearchCV for maximizing AUC\n",
    "score_func = make_scorer(f1_score, greater_is_better=True)\n",
    "\n",
    "\n",
    "Grid_srch_parameters_list = [ [{\"criterion\": [\"gini\", \"entropy\"],\n",
    "                                'n_estimators':[100, 200, 300, 400, 500, 600],# Number of trees\n",
    "                                'max_depth':[None,2, 3, 4, 5, 6],\n",
    "                                'max_leaf_nodes':[None,5, 10, 50, 100],\n",
    "                                #'min_samples_split': [2, 10, 50]\n",
    "                               }] ] \n",
    "\n",
    "# we will apply a 5-fold cross-validation and call the resultant function \"grid_search\"\n",
    "grid_search = GridSearchCV(estimator = classifier_RF, cv = 5, param_grid = Grid_srch_parameters_list[0], scoring = score_func,\n",
    "                              return_train_score = True) \n",
    "\n",
    "# apply function grid_search to the training data, call the resultand best model grid_search_RF\n",
    "grid_search_RF = grid_search.fit(X_train, y_train)\n",
    "\n",
    "# use the best model to predict the testing data\n",
    "y_pred_prob = grid_search_RF.predict_proba(X_test)[:,1] # probabilities  \n",
    "y_pred = np.where(y_pred_prob > class_threshold, 1, 0) # classification\n",
    "\n",
    "print('Optimized hyper-parameters:' + str(grid_search.best_params_))"
   ]
  },
  {
   "cell_type": "code",
   "execution_count": 45,
   "metadata": {
    "scrolled": false
   },
   "outputs": [
    {
     "name": "stdout",
     "output_type": "stream",
     "text": [
      "Confusion matrix:\n",
      "[[863   2]\n",
      " [ 20 115]]\n",
      "\n",
      "F1 Score = 0.97800\n",
      "AUC Score = 0.925\n",
      "Accuracy = 0.978\n",
      "\n",
      "Classification Report:\n",
      "              precision    recall  f1-score   support\n",
      "\n",
      "           0       0.98      1.00      0.99       865\n",
      "           1       0.98      0.85      0.91       135\n",
      "\n",
      "    accuracy                           0.98      1000\n",
      "   macro avg       0.98      0.92      0.95      1000\n",
      "weighted avg       0.98      0.98      0.98      1000\n",
      "\n"
     ]
    },
    {
     "data": {
      "text/plain": [
       "(863, 2, 20, 115)"
      ]
     },
     "execution_count": 45,
     "metadata": {},
     "output_type": "execute_result"
    },
    {
     "data": {
      "text/plain": [
       "<matplotlib.axes._subplots.AxesSubplot at 0x266ea5fb688>"
      ]
     },
     "execution_count": 45,
     "metadata": {},
     "output_type": "execute_result"
    },
    {
     "data": {
      "image/png": "[encoded data removed]",
      "text/plain": [
       "<Figure size 432x288 with 2 Axes>"
      ]
     },
     "metadata": {
      "needs_background": "light"
     },
     "output_type": "display_data"
    }
   ],
   "source": [
    "print(\"Confusion matrix:\")\n",
    "print(confusion_matrix(y_test, y_pred))\n",
    "\n",
    "print(\"\\nF1 Score = {:.5f}\".format(f1_score(y_test, y_pred, average=\"micro\")))\n",
    "print(\"AUC Score = {:.3f}\".format(roc_auc_score(y_test, y_pred)))\n",
    "print(\"Accuracy = {:.3f}\".format(accuracy_score(y_test, y_pred)))\n",
    "\n",
    "print(\"\\nClassification Report:\")\n",
    "print(classification_report(y_test, y_pred))\n",
    "\n",
    "cf_matrix = confusion_matrix(y_test, y_pred)\n",
    "tn, fp, fn, tp = confusion_matrix(y_test, y_pred).ravel()\n",
    "(tn, fp, fn, tp)\n",
    "\n",
    "sns.heatmap(cf_matrix/np.sum(cf_matrix), annot=True, \n",
    "            fmt='.2%', cmap='Blues')"
   ]
  },
  {
   "cell_type": "code",
   "execution_count": 46,
   "metadata": {},
   "outputs": [
    {
     "data": {
      "text/plain": [
       "<Figure size 1080x360 with 0 Axes>"
      ]
     },
     "execution_count": 46,
     "metadata": {},
     "output_type": "execute_result"
    },
    {
     "data": {
      "text/plain": [
       "Text(0.5, 1.0, 'Feature Importance')"
      ]
     },
     "execution_count": 46,
     "metadata": {},
     "output_type": "execute_result"
    },
    {
     "data": {
      "text/plain": [
       "Text(0.5, 0, 'Decrease in Gini (recal, Gini = 2*AUC-1)')"
      ]
     },
     "execution_count": 46,
     "metadata": {},
     "output_type": "execute_result"
    },
    {
     "data": {
      "text/plain": [
       "<matplotlib.axes._subplots.AxesSubplot at 0x266ea4a36c8>"
      ]
     },
     "execution_count": 46,
     "metadata": {},
     "output_type": "execute_result"
    },
    {
     "data": {
      "image/png": "[encoded data removed]",
      "text/plain": [
       "<Figure size 1080x360 with 1 Axes>"
      ]
     },
     "metadata": {
      "needs_background": "light"
     },
     "output_type": "display_data"
    }
   ],
   "source": [
    "# Tree models do not have coefficients, but have easily-interpretable tree plots\n",
    "# But in tree ensembles (such as random forect) there is no point to look at individual trees\n",
    "\n",
    "# Useful intuition, however, can be obtained from the Feature Importance Plots\n",
    "\n",
    "# calculate feature importances\n",
    "importances = grid_search_RF.best_estimator_.feature_importances_ \n",
    "\n",
    "# plot them\n",
    "plt.figure(figsize=(15,5))\n",
    "plt.title('Feature Importance')\n",
    "plt.xlabel('Decrease in Gini (recal, Gini = 2*AUC-1)')\n",
    "feature_importances = pd.Series(grid_search_RF.best_estimator_.feature_importances_, index=X_train.columns)\n",
    "feature_importances.nlargest(15).sort_values().plot(kind='barh', align='center')"
   ]
  },
  {
   "cell_type": "code",
   "execution_count": 47,
   "metadata": {},
   "outputs": [
    {
     "data": {
      "text/html": [
       "<div>\n",
       "<style scoped>\n",
       "    .dataframe tbody tr th:only-of-type {\n",
       "        vertical-align: middle;\n",
       "    }\n",
       "\n",
       "    .dataframe tbody tr th {\n",
       "        vertical-align: top;\n",
       "    }\n",
       "\n",
       "    .dataframe thead th {\n",
       "        text-align: right;\n",
       "    }\n",
       "</style>\n",
       "<table border=\"1\" class=\"dataframe\">\n",
       "  <thead>\n",
       "    <tr style=\"text-align: right;\">\n",
       "      <th></th>\n",
       "      <th>id</th>\n",
       "      <th>predicted</th>\n",
       "    </tr>\n",
       "  </thead>\n",
       "  <tbody>\n",
       "    <tr>\n",
       "      <th>0</th>\n",
       "      <td>12000</td>\n",
       "      <td>1</td>\n",
       "    </tr>\n",
       "    <tr>\n",
       "      <th>1</th>\n",
       "      <td>12001</td>\n",
       "      <td>0</td>\n",
       "    </tr>\n",
       "    <tr>\n",
       "      <th>2</th>\n",
       "      <td>12002</td>\n",
       "      <td>0</td>\n",
       "    </tr>\n",
       "    <tr>\n",
       "      <th>3</th>\n",
       "      <td>12003</td>\n",
       "      <td>0</td>\n",
       "    </tr>\n",
       "    <tr>\n",
       "      <th>4</th>\n",
       "      <td>12004</td>\n",
       "      <td>0</td>\n",
       "    </tr>\n",
       "  </tbody>\n",
       "</table>\n",
       "</div>"
      ],
      "text/plain": [
       "      id  predicted\n",
       "0  12000          1\n",
       "1  12001          0\n",
       "2  12002          0\n",
       "3  12003          0\n",
       "4  12004          0"
      ]
     },
     "execution_count": 47,
     "metadata": {},
     "output_type": "execute_result"
    }
   ],
   "source": [
    "# Using the model to make predictions on the test dataset\n",
    "pred_test_RF = grid_search_RF.predict(X_pred)\n",
    "\n",
    "# Output of the predicted results\n",
    "results_RF = pd.DataFrame({'id': test_df.id,'predicted': pred_test_RF})\n",
    "results_RF.head()"
   ]
  },
  {
   "cell_type": "code",
   "execution_count": 48,
   "metadata": {},
   "outputs": [],
   "source": [
    "# Writing the results\n",
    "results_RF.to_csv(\"results_RF.csv\",index=False)"
   ]
  },
  {
   "cell_type": "markdown",
   "metadata": {},
   "source": [
    "# Model No 3: Support Vector Machines"
   ]
  },
  {
   "cell_type": "code",
   "execution_count": 49,
   "metadata": {},
   "outputs": [
    {
     "name": "stdout",
     "output_type": "stream",
     "text": [
      "Fitting 5 folds for each of 35 candidates, totalling 175 fits\n"
     ]
    },
    {
     "name": "stderr",
     "output_type": "stream",
     "text": [
      "[Parallel(n_jobs=-1)]: Using backend LokyBackend with 8 concurrent workers.\n",
      "[Parallel(n_jobs=-1)]: Done   2 tasks      | elapsed:    7.0s\n",
      "[Parallel(n_jobs=-1)]: Done   9 tasks      | elapsed:    9.1s\n",
      "[Parallel(n_jobs=-1)]: Done  16 tasks      | elapsed:   10.8s\n",
      "[Parallel(n_jobs=-1)]: Done  25 tasks      | elapsed:   12.5s\n",
      "[Parallel(n_jobs=-1)]: Done  34 tasks      | elapsed:   18.6s\n",
      "[Parallel(n_jobs=-1)]: Done  45 tasks      | elapsed:   20.4s\n",
      "[Parallel(n_jobs=-1)]: Done  56 tasks      | elapsed:   26.5s\n",
      "[Parallel(n_jobs=-1)]: Done  69 tasks      | elapsed:   28.8s\n",
      "[Parallel(n_jobs=-1)]: Done  82 tasks      | elapsed:   35.5s\n",
      "[Parallel(n_jobs=-1)]: Done  97 tasks      | elapsed:   38.0s\n",
      "[Parallel(n_jobs=-1)]: Done 112 tasks      | elapsed:   45.1s\n",
      "[Parallel(n_jobs=-1)]: Done 129 tasks      | elapsed:   52.4s\n",
      "[Parallel(n_jobs=-1)]: Done 146 tasks      | elapsed:   55.5s\n",
      "[Parallel(n_jobs=-1)]: Done 175 out of 175 | elapsed:  1.1min finished\n"
     ]
    },
    {
     "name": "stdout",
     "output_type": "stream",
     "text": [
      "Optimized hyper-parameters:{'C': 120, 'gamma': 0.001, 'kernel': 'rbf'}\n"
     ]
    }
   ],
   "source": [
    "# Defining SVM hyperparameter tuning\n",
    "from sklearn.svm import SVC\n",
    "#Hypereparameter Grid\n",
    "svm_grid = {'C': [0.1, 1, 10, 20, 90,100,120], \n",
    "              'gamma': [1, 0.1, 0.01, 0.001, 0.0001],\n",
    "              'kernel': ['rbf']} \n",
    "\n",
    "#Defininf the SVM Model \n",
    "svm_model=SVC(random_state=42)  \n",
    "\n",
    "#Defining the SVM grid search CV model \n",
    "svm = GridSearchCV(svm_model, svm_grid, refit = True, verbose = 10,n_jobs=-1,scoring='f1')\n",
    "  \n",
    "# fitting the model for grid search\n",
    "grid_search_SVM = svm.fit(X_train,y_train)\n",
    "\n",
    "print('Optimized hyper-parameters:' + str(grid_search_SVM.best_params_))"
   ]
  },
  {
   "cell_type": "code",
   "execution_count": 50,
   "metadata": {},
   "outputs": [
    {
     "name": "stdout",
     "output_type": "stream",
     "text": [
      "Confusion matrix:\n",
      "[[848  17]\n",
      " [ 22 113]]\n",
      "\n",
      "F1 Score = 0.96100\n",
      "AUC Score = 0.909\n",
      "Accuracy = 0.961\n",
      "\n",
      "Classification Report:\n",
      "              precision    recall  f1-score   support\n",
      "\n",
      "           0       0.97      0.98      0.98       865\n",
      "           1       0.87      0.84      0.85       135\n",
      "\n",
      "    accuracy                           0.96      1000\n",
      "   macro avg       0.92      0.91      0.92      1000\n",
      "weighted avg       0.96      0.96      0.96      1000\n",
      "\n"
     ]
    },
    {
     "data": {
      "text/plain": [
       "(848, 17, 22, 113)"
      ]
     },
     "execution_count": 50,
     "metadata": {},
     "output_type": "execute_result"
    },
    {
     "data": {
      "text/plain": [
       "<matplotlib.axes._subplots.AxesSubplot at 0x266ea4b8848>"
      ]
     },
     "execution_count": 50,
     "metadata": {},
     "output_type": "execute_result"
    },
    {
     "data": {
      "image/png": "[encoded data removed]",
      "text/plain": [
       "<Figure size 432x288 with 2 Axes>"
      ]
     },
     "metadata": {
      "needs_background": "light"
     },
     "output_type": "display_data"
    }
   ],
   "source": [
    "y_pred = grid_search_SVM.predict(X_test)\n",
    "\n",
    "print(\"Confusion matrix:\")\n",
    "print(confusion_matrix(y_test, y_pred))\n",
    "\n",
    "print(\"\\nF1 Score = {:.5f}\".format(f1_score(y_test, y_pred, average=\"micro\")))\n",
    "print(\"AUC Score = {:.3f}\".format(roc_auc_score(y_test, y_pred)))\n",
    "print(\"Accuracy = {:.3f}\".format(accuracy_score(y_test, y_pred)))\n",
    "\n",
    "print(\"\\nClassification Report:\")\n",
    "print(classification_report(y_test, y_pred))\n",
    "\n",
    "cf_matrix = confusion_matrix(y_test, y_pred)\n",
    "tn, fp, fn, tp = confusion_matrix(y_test, y_pred).ravel()\n",
    "(tn, fp, fn, tp)\n",
    "\n",
    "sns.heatmap(cf_matrix/np.sum(cf_matrix), annot=True, \n",
    "            fmt='.2%', cmap='Blues')"
   ]
  },
  {
   "cell_type": "code",
   "execution_count": 51,
   "metadata": {},
   "outputs": [
    {
     "data": {
      "text/html": [
       "<div>\n",
       "<style scoped>\n",
       "    .dataframe tbody tr th:only-of-type {\n",
       "        vertical-align: middle;\n",
       "    }\n",
       "\n",
       "    .dataframe tbody tr th {\n",
       "        vertical-align: top;\n",
       "    }\n",
       "\n",
       "    .dataframe thead th {\n",
       "        text-align: right;\n",
       "    }\n",
       "</style>\n",
       "<table border=\"1\" class=\"dataframe\">\n",
       "  <thead>\n",
       "    <tr style=\"text-align: right;\">\n",
       "      <th></th>\n",
       "      <th>id</th>\n",
       "      <th>predicted</th>\n",
       "    </tr>\n",
       "  </thead>\n",
       "  <tbody>\n",
       "    <tr>\n",
       "      <th>0</th>\n",
       "      <td>12000</td>\n",
       "      <td>1</td>\n",
       "    </tr>\n",
       "    <tr>\n",
       "      <th>1</th>\n",
       "      <td>12001</td>\n",
       "      <td>0</td>\n",
       "    </tr>\n",
       "    <tr>\n",
       "      <th>2</th>\n",
       "      <td>12002</td>\n",
       "      <td>0</td>\n",
       "    </tr>\n",
       "    <tr>\n",
       "      <th>3</th>\n",
       "      <td>12003</td>\n",
       "      <td>0</td>\n",
       "    </tr>\n",
       "    <tr>\n",
       "      <th>4</th>\n",
       "      <td>12004</td>\n",
       "      <td>0</td>\n",
       "    </tr>\n",
       "  </tbody>\n",
       "</table>\n",
       "</div>"
      ],
      "text/plain": [
       "      id  predicted\n",
       "0  12000          1\n",
       "1  12001          0\n",
       "2  12002          0\n",
       "3  12003          0\n",
       "4  12004          0"
      ]
     },
     "execution_count": 51,
     "metadata": {},
     "output_type": "execute_result"
    }
   ],
   "source": [
    "# Using the model to make predictions on the test dataset\n",
    "pred_test_SVM = grid_search_SVM.predict(X_pred)\n",
    "\n",
    "# Output of the predicted results\n",
    "results_SVM = pd.DataFrame({'id': test_df.id,'predicted': pred_test_SVM})\n",
    "results_SVM.head()"
   ]
  },
  {
   "cell_type": "code",
   "execution_count": 52,
   "metadata": {},
   "outputs": [],
   "source": [
    "# Writing results\n",
    "results_SVM.to_csv(\"results_SVM.csv\",index=False)"
   ]
  },
  {
   "cell_type": "markdown",
   "metadata": {},
   "source": [
    "# Model No 4: XgBoost"
   ]
  },
  {
   "cell_type": "code",
   "execution_count": 53,
   "metadata": {},
   "outputs": [],
   "source": [
    "# Define the gradient boosting machine model and call it classifier_GBM\n",
    "classifier_GBM = GradientBoostingClassifier(random_state=42)\n",
    "\n",
    "# Hyper-parameter tuning (\"optimization\") using the function GridSearchCV for maximizing AUC\n",
    "score_func = make_scorer(roc_auc_score, greater_is_better=True)\n",
    "\n",
    "\n",
    "n_trees = [100, 200, 300, 400, 500, 600] # first, the \"number of trees\" hyper-parameter (n_trees) and we will consider values of 100, 200, ... 600 trees in the forest\n",
    "learning_rates = [0.01, 0.1] # second, speed of boosting (\"learning rate\")\n",
    "depth = [2, 3, 4, 5, 6]\n",
    "leaf_nodes = [None,5, 10, 50, 100]\n",
    "\n",
    "Grid_srch_parameters_list = [ [{'n_estimators':n_trees, \n",
    "                                'learning_rate': learning_rates,\n",
    "                                'max_depth':depth,\n",
    "                                'max_leaf_nodes':leaf_nodes}] ] \n",
    "\n",
    "# we will apply a 5-fold cross-validation and call the resultant function \"grid_search\"\n",
    "grid_search = GridSearchCV(estimator = classifier_GBM, cv = 5, param_grid = Grid_srch_parameters_list[0], scoring = score_func,\n",
    "                              return_train_score = True) \n",
    "\n",
    "# # apply function grid_search to the training data, call the resultant best model grid_search_GBM\n",
    "grid_search_GBM = grid_search.fit(X_train, y_train)\n",
    "\n",
    "# use the best model to predict the testing data \n",
    "y_pred_prob = grid_search_GBM.predict_proba(X_test)[:,1] # probabilities\n",
    "y_pred = np.where(y_pred_prob > class_threshold, 1, 0) # classification\n"
   ]
  },
  {
   "cell_type": "code",
   "execution_count": 54,
   "metadata": {},
   "outputs": [
    {
     "name": "stdout",
     "output_type": "stream",
     "text": [
      "Optimized hyper-parameters:{'learning_rate': 0.1, 'max_depth': 6, 'max_leaf_nodes': 50, 'n_estimators': 400}\n"
     ]
    }
   ],
   "source": [
    "print('Optimized hyper-parameters:' + str(grid_search_GBM.best_params_))"
   ]
  },
  {
   "cell_type": "code",
   "execution_count": 56,
   "metadata": {},
   "outputs": [
    {
     "name": "stdout",
     "output_type": "stream",
     "text": [
      "Confusion matrix:\n",
      "[[858   7]\n",
      " [ 14 121]]\n",
      "\n",
      "F1 Score = 0.97900\n",
      "AUC Score = 0.944\n",
      "Accuracy = 0.979\n",
      "\n",
      "Classification Report:\n",
      "              precision    recall  f1-score   support\n",
      "\n",
      "           0       0.98      0.99      0.99       865\n",
      "           1       0.95      0.90      0.92       135\n",
      "\n",
      "    accuracy                           0.98      1000\n",
      "   macro avg       0.96      0.94      0.95      1000\n",
      "weighted avg       0.98      0.98      0.98      1000\n",
      "\n"
     ]
    },
    {
     "data": {
      "text/plain": [
       "(858, 7, 14, 121)"
      ]
     },
     "execution_count": 56,
     "metadata": {},
     "output_type": "execute_result"
    },
    {
     "data": {
      "text/plain": [
       "<matplotlib.axes._subplots.AxesSubplot at 0x266ea4a0e88>"
      ]
     },
     "execution_count": 56,
     "metadata": {},
     "output_type": "execute_result"
    },
    {
     "data": {
      "image/png": "[encoded data removed]",
      "text/plain": [
       "<Figure size 432x288 with 2 Axes>"
      ]
     },
     "metadata": {
      "needs_background": "light"
     },
     "output_type": "display_data"
    }
   ],
   "source": [
    "y_pred = grid_search_GBM.predict(X_test)\n",
    "\n",
    "print(\"Confusion matrix:\")\n",
    "print(confusion_matrix(y_test, y_pred))\n",
    "\n",
    "print(\"\\nF1 Score = {:.5f}\".format(f1_score(y_test, y_pred, average=\"micro\")))\n",
    "print(\"AUC Score = {:.3f}\".format(roc_auc_score(y_test, y_pred)))\n",
    "print(\"Accuracy = {:.3f}\".format(accuracy_score(y_test, y_pred)))\n",
    "\n",
    "print(\"\\nClassification Report:\")\n",
    "print(classification_report(y_test, y_pred))\n",
    "\n",
    "cf_matrix = confusion_matrix(y_test, y_pred)\n",
    "tn, fp, fn, tp = confusion_matrix(y_test, y_pred).ravel()\n",
    "(tn, fp, fn, tp)\n",
    "\n",
    "sns.heatmap(cf_matrix/np.sum(cf_matrix), annot=True, \n",
    "            fmt='.2%', cmap='Blues')"
   ]
  },
  {
   "cell_type": "code",
   "execution_count": 58,
   "metadata": {},
   "outputs": [
    {
     "data": {
      "text/html": [
       "<div>\n",
       "<style scoped>\n",
       "    .dataframe tbody tr th:only-of-type {\n",
       "        vertical-align: middle;\n",
       "    }\n",
       "\n",
       "    .dataframe tbody tr th {\n",
       "        vertical-align: top;\n",
       "    }\n",
       "\n",
       "    .dataframe thead th {\n",
       "        text-align: right;\n",
       "    }\n",
       "</style>\n",
       "<table border=\"1\" class=\"dataframe\">\n",
       "  <thead>\n",
       "    <tr style=\"text-align: right;\">\n",
       "      <th></th>\n",
       "      <th>id</th>\n",
       "      <th>predicted</th>\n",
       "    </tr>\n",
       "  </thead>\n",
       "  <tbody>\n",
       "    <tr>\n",
       "      <th>0</th>\n",
       "      <td>12000</td>\n",
       "      <td>1</td>\n",
       "    </tr>\n",
       "    <tr>\n",
       "      <th>1</th>\n",
       "      <td>12001</td>\n",
       "      <td>0</td>\n",
       "    </tr>\n",
       "    <tr>\n",
       "      <th>2</th>\n",
       "      <td>12002</td>\n",
       "      <td>0</td>\n",
       "    </tr>\n",
       "    <tr>\n",
       "      <th>3</th>\n",
       "      <td>12003</td>\n",
       "      <td>0</td>\n",
       "    </tr>\n",
       "    <tr>\n",
       "      <th>4</th>\n",
       "      <td>12004</td>\n",
       "      <td>0</td>\n",
       "    </tr>\n",
       "  </tbody>\n",
       "</table>\n",
       "</div>"
      ],
      "text/plain": [
       "      id  predicted\n",
       "0  12000          1\n",
       "1  12001          0\n",
       "2  12002          0\n",
       "3  12003          0\n",
       "4  12004          0"
      ]
     },
     "execution_count": 58,
     "metadata": {},
     "output_type": "execute_result"
    }
   ],
   "source": [
    "# Using the model to make predictions on the test dataset\n",
    "pred_test_XgB = grid_search_GBM.predict(X_pred)\n",
    "\n",
    "# Output of the predicted results\n",
    "results_XgB = pd.DataFrame({'id': test_df.id,'predicted': pred_test_XgB})\n",
    "results_XgB.head()"
   ]
  },
  {
   "cell_type": "code",
   "execution_count": 59,
   "metadata": {},
   "outputs": [],
   "source": [
    "# Writing the results\n",
    "results_XgB.to_csv(\"results_XgB.csv\",index=False)"
   ]
  },
  {
   "cell_type": "markdown",
   "metadata": {},
   "source": [
    "XgB gave the best results with a Kaggle score of 0.97316"
   ]
  },
  {
   "cell_type": "markdown",
   "metadata": {},
   "source": [
    "End of Code"
   ]
  }
 ],
 "metadata": {
  "kernelspec": {
   "display_name": "Python 3",
   "language": "python",
   "name": "python3"
  },
  "language_info": {
   "codemirror_mode": {
    "name": "ipython",
    "version": 3
   },
   "file_extension": ".py",
   "mimetype": "text/x-python",
   "name": "python",
   "nbconvert_exporter": "python",
   "pygments_lexer": "ipython3",
   "version": "3.7.6"
  }
 },
 "nbformat": 4,
 "nbformat_minor": 4
}
